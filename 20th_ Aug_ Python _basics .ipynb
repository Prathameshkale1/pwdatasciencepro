{
 "cells": [
  {
   "cell_type": "markdown",
   "id": "7534e15c",
   "metadata": {},
   "source": [
    "## assignment no 2"
   ]
  },
  {
   "cell_type": "markdown",
   "id": "ce57dffc",
   "metadata": {},
   "source": [
    "## String based Assignnment Problem"
   ]
  },
  {
   "cell_type": "code",
   "execution_count": 1,
   "id": "a742ab33",
   "metadata": {},
   "outputs": [
    {
     "name": "stdout",
     "output_type": "stream",
     "text": [
      "dlrow olleh\n"
     ]
    }
   ],
   "source": [
    "# 1 reverse string\n",
    "str1= \"hello world\"[::-1]\n",
    "print(str1)"
   ]
  },
  {
   "cell_type": "code",
   "execution_count": 2,
   "id": "8154998b",
   "metadata": {},
   "outputs": [
    {
     "name": "stdout",
     "output_type": "stream",
     "text": [
      "enter a stringaditya\n",
      "the string is not palindrome\n"
     ]
    }
   ],
   "source": [
    "#2 Check if a string is a palindrome.\n",
    "string =input(\"enter a string\")\n",
    "\n",
    "if(string==string[::-1]):\n",
    "    print(\"the string is palinndrome\")\n",
    "else:\n",
    "    print(\"the string is not palindrome\")"
   ]
  },
  {
   "cell_type": "code",
   "execution_count": 7,
   "id": "58bb6bb1",
   "metadata": {},
   "outputs": [
    {
     "name": "stdout",
     "output_type": "stream",
     "text": [
      "enter a string: aditya\n",
      "ADITYA\n"
     ]
    }
   ],
   "source": [
    "#Convert a string to uppercase.\n",
    "string=input(\"enter a string:\" \" \")\n",
    "\n",
    "string=string.upper()\n",
    "print(string)"
   ]
  },
  {
   "cell_type": "code",
   "execution_count": 8,
   "id": "5a38ca9c",
   "metadata": {},
   "outputs": [
    {
     "name": "stdout",
     "output_type": "stream",
     "text": [
      "enter a string: ADITYa\n",
      "aditya\n"
     ]
    }
   ],
   "source": [
    "#Convert a string to lowercase.\\\n",
    "string=input(\"enter a string:\" \" \")\n",
    "\n",
    "string=string.lower()\n",
    "print(string)"
   ]
  },
  {
   "cell_type": "code",
   "execution_count": 9,
   "id": "5ae9628a",
   "metadata": {},
   "outputs": [
    {
     "name": "stdout",
     "output_type": "stream",
     "text": [
      "enter the sentence:aditya\n",
      "3\n"
     ]
    }
   ],
   "source": [
    "#Count the number of vowels in a string.\n",
    "string = str(input(\"enter the sentence:\"))\n",
    "vowels = \"aeiouAEIOU\"\n",
    "\n",
    "count = sum(string.count(vowel) for vowel in vowels)\n",
    "print(count)\n"
   ]
  },
  {
   "cell_type": "code",
   "execution_count": 3,
   "id": "17d451e3",
   "metadata": {},
   "outputs": [
    {
     "name": "stdout",
     "output_type": "stream",
     "text": [
      "10\n"
     ]
    }
   ],
   "source": [
    "#Count the number of consonants in a string.\n",
    "#consonants = anny letter except a,e,i,o,u\n",
    "def consonant(string):\n",
    "    consonant_count=0\n",
    "    \n",
    "    consonants=\"bcdfghjklmnpqrstvwxyzBCDFGHJKLMNPQRSTVWXYZ\"\n",
    "    \n",
    "    for i in string:\n",
    "        if i in consonants:\n",
    "            consonant_count+=1\n",
    "            \n",
    "    return consonant_count\n",
    "\n",
    "input_string=\"aditya tukaram gavate\"\n",
    "print(consonant(input_string))\n"
   ]
  },
  {
   "cell_type": "code",
   "execution_count": 11,
   "id": "3f2e9539",
   "metadata": {},
   "outputs": [
    {
     "name": "stdout",
     "output_type": "stream",
     "text": [
      "Enter the sentence:aditya tukaram gavate\n",
      "String after removing all the white spaces : adityatukaramgavate\n"
     ]
    }
   ],
   "source": [
    "#Remove all whitespaces from a string.\n",
    "string = (input(\"Enter the sentence:\"))\n",
    "    \n",
    "string = string.replace(\" \",\"\");  \n",
    "          \n",
    "print(\"String after removing all the white spaces : \" + string);  "
   ]
  },
  {
   "cell_type": "code",
   "execution_count": 20,
   "id": "b1c8eb6a",
   "metadata": {},
   "outputs": [
    {
     "name": "stdout",
     "output_type": "stream",
     "text": [
      "enter the string: aditrya\n",
      "The length of the string is: 7\n"
     ]
    }
   ],
   "source": [
    "#Find the length of a string without using the `len()` function.\n",
    "input_string=input(\"enter the string:\"\" \")\n",
    "\n",
    "count = 0\n",
    "\n",
    "\n",
    "for char in input_string:  \n",
    "    count += 1\n",
    "\n",
    "\n",
    "print(\"The length of the string is:\", count)"
   ]
  },
  {
   "cell_type": "code",
   "execution_count": 33,
   "id": "6e48befe",
   "metadata": {},
   "outputs": [
    {
     "name": "stdout",
     "output_type": "stream",
     "text": [
      "enter the sentence:aditya tukaram gavate\n",
      "enter the specific word:gavate\n",
      "the sentence contain specific word\n"
     ]
    }
   ],
   "source": [
    "#Check if a string contains a specific word.\n",
    "sentence=input(\"enter the sentence:\")\n",
    "word= input(\"enter the specific word:\")\n",
    "\n",
    "if word in sentence :\n",
    "    print(\"the sentence contain specific word\")\n",
    "else :\n",
    "    print(\"the sentence do not contain specific word\")"
   ]
  },
  {
   "cell_type": "code",
   "execution_count": 34,
   "id": "a622d6b0",
   "metadata": {},
   "outputs": [
    {
     "name": "stdout",
     "output_type": "stream",
     "text": [
      "enter the sentence:aditya tukaram gavate\n",
      "enter the word you want to replace:tukaram\n",
      "enter the new word:\n",
      "the new sentence: aditya  gavate\n"
     ]
    }
   ],
   "source": [
    "#Replace a word in a string with another word.\n",
    "sentence=input(\"enter the sentence:\")\n",
    "word=input(\"enter the word you want to replace:\")\n",
    "new_word=input(\"enter the new word:\")\n",
    "\n",
    "new_sentence=sentence.replace(word,new_word)\n",
    "print(\"the new sentence:\",new_sentence)"
   ]
  },
  {
   "cell_type": "code",
   "execution_count": 3,
   "id": "486f8dab",
   "metadata": {},
   "outputs": [
    {
     "name": "stdout",
     "output_type": "stream",
     "text": [
      "1\n",
      "1\n"
     ]
    }
   ],
   "source": [
    "#Count the occurrences of a word in a string.\n",
    "def occurrneces(input_string,word):\n",
    "    count=0\n",
    "    \n",
    "    words=input_string.split()\n",
    "    \n",
    "    for i in words:\n",
    "        if i == word:\n",
    "            count+=1\n",
    "    return count\n",
    "\n",
    "\n",
    "input_str= \"aditya tukaram gavate\"\n",
    "word= \"aditya\"\n",
    "\n",
    "print(occurrneces(input_str,word))\n",
    "print(occurrneces(\"aditya tukaram gavate\",\"gavate\"))"
   ]
  },
  {
   "cell_type": "code",
   "execution_count": 6,
   "id": "cb812ae5",
   "metadata": {},
   "outputs": [
    {
     "name": "stdout",
     "output_type": "stream",
     "text": [
      "19\n"
     ]
    }
   ],
   "source": [
    "#Find the first occurrence of a word in a string.\n",
    "def occurrence(input_string,word):\n",
    "    index = input_string.find(word)\n",
    "    \n",
    "    \n",
    "    if index ==-1:\n",
    "        return none\n",
    "    \n",
    "    return index\n",
    "\n",
    "input_string=\"this is a sentence for the first occurrence\"\n",
    "word=\"for\"\n",
    "print(occurrence(input_string,word))"
   ]
  },
  {
   "cell_type": "code",
   "execution_count": 8,
   "id": "0cfb0cb9",
   "metadata": {},
   "outputs": [
    {
     "name": "stdout",
     "output_type": "stream",
     "text": [
      "27\n"
     ]
    }
   ],
   "source": [
    "#Find the last occurrence of a word in a string.\n",
    "def last_occurrence(input_string,word):\n",
    "    index=input_string.rfind(word)\n",
    "    \n",
    "    \n",
    "    if index== -1:\n",
    "        return none\n",
    "    \n",
    "    return index\n",
    "\n",
    "input_string=\"this is a sentence for the last occurence\"\n",
    "word=\"last\"\n",
    "print(last_occurrence(input_string,word))"
   ]
  },
  {
   "cell_type": "code",
   "execution_count": 15,
   "id": "96b214a6",
   "metadata": {},
   "outputs": [
    {
     "name": "stdout",
     "output_type": "stream",
     "text": [
      "['this', 'is', 'an', 'example']\n"
     ]
    }
   ],
   "source": [
    "#Split a string into a list of words.\n",
    "def split_sentence(sentence):\n",
    "    \n",
    "    new_sentence= sentence.split()\n",
    "    \n",
    "    return new_sentence\n",
    "\n",
    "sentence=\"this is an example\"\n",
    "print(split_sentence(sentence))"
   ]
  },
  {
   "cell_type": "code",
   "execution_count": 4,
   "id": "cf1c86dc",
   "metadata": {},
   "outputs": [
    {
     "name": "stdout",
     "output_type": "stream",
     "text": [
      "Joined string: my name is aditya\n"
     ]
    }
   ],
   "source": [
    "#oin a list of words into a string.\n",
    "def join_words_into_string(words_list):\n",
    "\n",
    "    joined_string = ' '.join(words_list)\n",
    "\n",
    "    return joined_string\n",
    "\n",
    "words = [\"my\",\"name\",\"is\",\"aditya\"]\n",
    "text = join_words_into_string(words)\n",
    "print(\"Joined string:\", text)"
   ]
  },
  {
   "cell_type": "code",
   "execution_count": 5,
   "id": "e557cc1a",
   "metadata": {},
   "outputs": [
    {
     "name": "stdout",
     "output_type": "stream",
     "text": [
      "write a sentence:welcome to PW skills\n",
      "welcome_to_PW_skills\n"
     ]
    }
   ],
   "source": [
    "#Convert a string where words are separated by spaces to one where words are separated by underscores.\n",
    "def underscore(sentence):\n",
    "    underscore_separated=sentence.replace(\" \",\"_\")\n",
    "    \n",
    "    return underscore_separated\n",
    "\n",
    "sentence=input(\"write a sentence:\")\n",
    "converted_sentence=underscore(sentence)\n",
    "print(converted_sentence)"
   ]
  },
  {
   "cell_type": "code",
   "execution_count": 9,
   "id": "d4e463ae",
   "metadata": {},
   "outputs": [
    {
     "name": "stdout",
     "output_type": "stream",
     "text": [
      "the sentence starts with specific word\n"
     ]
    }
   ],
   "source": [
    "#Check if a string starts with a specific word or phrase.\n",
    "def starting(input_string,word):\n",
    "    is_start=input_string.startswith(word)\n",
    "    \n",
    "    return is_start\n",
    "\n",
    "input_string=\"welcome to PW skills\"\n",
    "word=\"welcome\"\n",
    "result=starting(input_string,word)\n",
    "if result:\n",
    "    print(\"the sentence starts with specific word\")\n",
    "else:\n",
    "    print(\"the sentence doesn't start with specifc word\")\n"
   ]
  },
  {
   "cell_type": "code",
   "execution_count": 11,
   "id": "dff049b6",
   "metadata": {},
   "outputs": [
    {
     "name": "stdout",
     "output_type": "stream",
     "text": [
      "the sentence doesn't ends with specifc word\n"
     ]
    }
   ],
   "source": [
    "#Check if a string ends with a specific word or phrase.\n",
    "def ending(input_string,word):\n",
    "    is_end=input_string.endswith(word)\n",
    "    \n",
    "    return is_end\n",
    "\n",
    "input_string=\"welcome to PW skills\"\n",
    "word=\"welcome\"\n",
    "result=ending(input_string,word)\n",
    "if result:\n",
    "    print(\"the sentence ends with specific word\")\n",
    "else:\n",
    "    print(\"the sentence doesn't ends with specifc word\")\n"
   ]
  },
  {
   "cell_type": "code",
   "execution_count": 17,
   "id": "8aac6f44",
   "metadata": {},
   "outputs": [
    {
     "name": "stdout",
     "output_type": "stream",
     "text": [
      "Title: Hello World\n"
     ]
    }
   ],
   "source": [
    "#convert a string to title case (e.g., \"hello world\" to \"Hello World\").\n",
    "def convert_to_title(input_string):\n",
    "    title=input_string.title()\n",
    "    \n",
    "    return title\n",
    "\n",
    "input_string=\"hello world\"\n",
    "new_title=convert_to_title(input_string)\n",
    "print(\"Title:\",new_title)"
   ]
  },
  {
   "cell_type": "code",
   "execution_count": 20,
   "id": "ae33345b",
   "metadata": {},
   "outputs": [
    {
     "name": "stdout",
     "output_type": "stream",
     "text": [
      "example\n"
     ]
    }
   ],
   "source": [
    "#Find the longest word in a string.\n",
    "def longest_word(sentence):\n",
    "    words=sentence.split()\n",
    "    \n",
    "    longest_word=\" \"\n",
    "    max_length=0\n",
    "    \n",
    "    \n",
    "    for i in words:\n",
    "        if len(i)> max_length:\n",
    "            max_length=len(i)\n",
    "            longest_word=i\n",
    "            \n",
    "    return longest_word\n",
    "\n",
    "sentence=\"this is a example fo the longest wrod in string\"\n",
    "print(longest_word(sentence))"
   ]
  },
  {
   "cell_type": "code",
   "execution_count": 22,
   "id": "e2430dfb",
   "metadata": {},
   "outputs": [
    {
     "name": "stdout",
     "output_type": "stream",
     "text": [
      "Shortest word: is\n"
     ]
    }
   ],
   "source": [
    "#find the shortest word in a string.\n",
    "def find_shortest_word(text):\n",
    "    words = text.split()\n",
    "\n",
    "    shortest_word = None\n",
    "    min_length = float('inf')  \n",
    "\n",
    "    for word in words:\n",
    "        if len(word) < min_length:\n",
    "            min_length = len(word)\n",
    "            shortest_word = word\n",
    "\n",
    "    return shortest_word\n",
    "\n",
    "text = \"This is an example sentence with some short words.\"\n",
    "shortest_word = find_shortest_word(text)\n",
    "print(\"Shortest word:\", shortest_word)"
   ]
  },
  {
   "cell_type": "code",
   "execution_count": 24,
   "id": "7c2fa169",
   "metadata": {},
   "outputs": [
    {
     "name": "stdout",
     "output_type": "stream",
     "text": [
      "gavate tukaram aditya\n"
     ]
    }
   ],
   "source": [
    "#Reverse the order of words in a string.\n",
    "\n",
    "string = \"aditya tukaram gavate\"\n",
    "\n",
    "s = string.split()[::-1]\n",
    "l = []\n",
    "for i in s:\n",
    "    l.append(i)\n",
    "\n",
    "print(\" \".join(l))\n"
   ]
  },
  {
   "cell_type": "code",
   "execution_count": 26,
   "id": "1f1ca54e",
   "metadata": {},
   "outputs": [
    {
     "name": "stdout",
     "output_type": "stream",
     "text": [
      "the text is alphanumeric\n"
     ]
    }
   ],
   "source": [
    "#Check if a string is alphanumeric.\n",
    "def alphanumeric(text):\n",
    "    return text.isalnum()\n",
    "\n",
    "text=\"aditya72\"\n",
    "result=alphanumeric(text)\n",
    "if result:\n",
    "    print(\"the text is alphanumeric\")\n",
    "else:\n",
    "    print(\"the text is not alphanumeric\")"
   ]
  },
  {
   "cell_type": "code",
   "execution_count": 29,
   "id": "6541e83a",
   "metadata": {},
   "outputs": [
    {
     "name": "stdout",
     "output_type": "stream",
     "text": [
      " 7234\n"
     ]
    }
   ],
   "source": [
    "#Extract all digits from a string.\n",
    "def extract_num(text):\n",
    "    digits=\" \"\n",
    "    \n",
    "    for i in text:\n",
    "        if i.isdigit():\n",
    "            \n",
    "            digits+=i\n",
    "    return digits\n",
    "\n",
    "text=\"aditya 7234\"\n",
    "print(extract_num(text))"
   ]
  },
  {
   "cell_type": "code",
   "execution_count": 58,
   "id": "2cd25c2a",
   "metadata": {},
   "outputs": [
    {
     "name": "stdout",
     "output_type": "stream",
     "text": [
      " aditya\n"
     ]
    }
   ],
   "source": [
    "#Extract all alphabet from string\n",
    "def extract(text):\n",
    "    alpha=' '\n",
    "    \n",
    "    for i in text:\n",
    "        if i.isalpha():\n",
    "            \n",
    "            alpha+=i\n",
    "    return alpha\n",
    "\n",
    "text=\"aditya2341\"\n",
    "print(extract(text))"
   ]
  },
  {
   "cell_type": "code",
   "execution_count": 60,
   "id": "e4428dd8",
   "metadata": {},
   "outputs": [
    {
     "name": "stdout",
     "output_type": "stream",
     "text": [
      " AG\n"
     ]
    }
   ],
   "source": [
    "#Count the number of uppercase letters in a string.\n",
    "def count_uppercase(text):\n",
    "    upper=' '\n",
    "    \n",
    "    for i in text:\n",
    "        if i.isupper():\n",
    "            upper+=i\n",
    "    return upper\n",
    "\n",
    "word=\"Aditya Gavate\"\n",
    "print(count_uppercase(word))"
   ]
  },
  {
   "cell_type": "code",
   "execution_count": 74,
   "id": "244461ca",
   "metadata": {},
   "outputs": [
    {
     "name": "stdout",
     "output_type": "stream",
     "text": [
      " dityaavate\n",
      "6\n"
     ]
    }
   ],
   "source": [
    "#Count the number of lowercase letters in a string.\n",
    "def count_lower(text):\n",
    "    \n",
    "    lower=' '\n",
    "    \n",
    "    for i in text:\n",
    "        if i.islower():\n",
    "            lower+=i\n",
    "    return lower\n",
    "\n",
    "word=\"Aditya Gavate\"\n",
    "print(count_lower(word))\n",
    "print(len(i))"
   ]
  },
  {
   "cell_type": "code",
   "execution_count": 62,
   "id": "5e29c2da",
   "metadata": {},
   "outputs": [
    {
     "name": "stdout",
     "output_type": "stream",
     "text": [
      "aDITYAgAVATE\n"
     ]
    }
   ],
   "source": [
    "#Swap the case of each character in a string.\n",
    "def swap_string(text):\n",
    "    text=text.swapcase()\n",
    "    return text\n",
    "\n",
    "text=\"AdityaGavate\"\n",
    "print(swap_string(text))"
   ]
  },
  {
   "cell_type": "code",
   "execution_count": 73,
   "id": "1935244c",
   "metadata": {},
   "outputs": [
    {
     "name": "stdout",
     "output_type": "stream",
     "text": [
      "aditya \n"
     ]
    }
   ],
   "source": [
    "#Remove a specific word from a string.\n",
    "def remove(sentence,word):\n",
    "    sentence=sentence.replace(word,'')\n",
    "    return sentence\n",
    "\n",
    "sentence=\"aditya gavate\"\n",
    "word=\"gavate\"\n",
    "print(remove(text,word))\n"
   ]
  },
  {
   "cell_type": "code",
   "execution_count": 75,
   "id": "b4a66821",
   "metadata": {},
   "outputs": [
    {
     "name": "stdout",
     "output_type": "stream",
     "text": [
      "True\n",
      "False\n"
     ]
    }
   ],
   "source": [
    "#Check if a string is a valid email address.\n",
    "import re  # Import the regular expression module\n",
    "\n",
    "def is_valid_email(email):\n",
    "    pattern = r'^[\\w\\.-]+@[\\w\\.-]+\\.\\w+$'  \n",
    "    if re.match(pattern, email):\n",
    "        return True\n",
    "    else:\n",
    "        return False\n",
    "\n",
    "email1 = \"example@email.com\"\n",
    "email2 = \"invalid-email\"\n",
    "result1 = is_valid_email(email1)\n",
    "result2 = is_valid_email(email2)\n",
    "print(result1)\n",
    "print(result2)"
   ]
  },
  {
   "cell_type": "code",
   "execution_count": 77,
   "id": "38f0a1a7",
   "metadata": {},
   "outputs": [
    {
     "name": "stdout",
     "output_type": "stream",
     "text": [
      "adityagavate\n"
     ]
    }
   ],
   "source": [
    "#Extract the username from an email address string.\n",
    "def extract(email):\n",
    "    username=email.split('@')[0]\n",
    "    return username\n",
    "\n",
    "email=\"adityagavate@gmail.com\"\n",
    "print(extract(email))"
   ]
  },
  {
   "cell_type": "code",
   "execution_count": 78,
   "id": "e9080873",
   "metadata": {},
   "outputs": [
    {
     "name": "stdout",
     "output_type": "stream",
     "text": [
      "gmail.com\n"
     ]
    }
   ],
   "source": [
    "#Extract the domain name from an email address string.\n",
    "def domain(email):\n",
    "    domain=email.split('@')[1]\n",
    "    return domain\n",
    "\n",
    "email=\"adityagavate@gmail.com\"\n",
    "print(domain(email))"
   ]
  },
  {
   "cell_type": "code",
   "execution_count": 82,
   "id": "387e9845",
   "metadata": {},
   "outputs": [
    {
     "name": "stdout",
     "output_type": "stream",
     "text": [
      "aditya gavate\n"
     ]
    }
   ],
   "source": [
    "#Replace multiple spaces in a string with a single space.\n",
    "# using str.split and str.join\n",
    "def replace(string):\n",
    "    new_string=' '.join(string.split())\n",
    "    return new_string\n",
    "\n",
    "string=\"aditya    gavate\"\n",
    "print(replace(string))"
   ]
  },
  {
   "cell_type": "code",
   "execution_count": 85,
   "id": "9c949648",
   "metadata": {},
   "outputs": [
    {
     "name": "stdout",
     "output_type": "stream",
     "text": [
      "True\n",
      "False\n"
     ]
    }
   ],
   "source": [
    "#Check if a string is a valid URL.\n",
    "from urllib.parse import urlparse\n",
    "\n",
    "def is_valid_url(url):\n",
    "    try:\n",
    "        result = urlparse(url)\n",
    "        return all([result.scheme, result.netloc])  # Check if both scheme and netloc are present\n",
    "    except ValueError:\n",
    "        return False\n",
    "\n",
    "# Example URLs\n",
    "url1 = \"https://www.example.com\"\n",
    "url2 = \"invalid-url\"\n",
    "result1 = is_valid_url(url1)\n",
    "result2 = is_valid_url(url2)\n",
    "print(result1)  # Should print True\n",
    "print(result2)  # Should print False"
   ]
  },
  {
   "cell_type": "code",
   "execution_count": 86,
   "id": "7c4c751b",
   "metadata": {},
   "outputs": [
    {
     "name": "stdout",
     "output_type": "stream",
     "text": [
      "Protocol 1: https\n",
      "Protocol 2: http\n",
      "Protocol 3: ftp\n"
     ]
    }
   ],
   "source": [
    "#Extract the protocol (http or https) from a URL string.\n",
    "def extract_protocol(url):\n",
    "    # Find the index of the first occurrence of \"://\"\n",
    "    protocol_end = url.find(\"://\")\n",
    "\n",
    "    if protocol_end != -1:\n",
    "        # Extract the protocol from the URL\n",
    "        protocol = url[:protocol_end]\n",
    "        return protocol\n",
    "    else:\n",
    "        return None\n",
    "\n",
    "# Example URL strings\n",
    "url1 = \"https://www.example.com\"\n",
    "url2 = \"http://google.com\"\n",
    "url3 = \"ftp://ftp.example.com\"\n",
    "\n",
    "# Extract protocols\n",
    "protocol1 = extract_protocol(url1)\n",
    "protocol2 = extract_protocol(url2)\n",
    "protocol3 = extract_protocol(url3)\n",
    "\n",
    "# Print extracted protocols\n",
    "print(\"Protocol 1:\", protocol1)\n",
    "print(\"Protocol 2:\", protocol2)\n",
    "print(\"Protocol 3:\", protocol3)"
   ]
  },
  {
   "cell_type": "code",
   "execution_count": 91,
   "id": "96d2828e",
   "metadata": {},
   "outputs": [
    {
     "name": "stdout",
     "output_type": "stream",
     "text": [
      "{'a': 4, 'd': 1, 'i': 1, 't': 2, 'y': 1, ' ': 1, 'g': 1, 'v': 1, 'e': 1}\n"
     ]
    }
   ],
   "source": [
    "#Find the frequency of each character in a string.\n",
    "def character_freq(input_string):\n",
    "    frequency= {}\n",
    "    \n",
    "    for char in input_string:\n",
    "        if char in frequency:\n",
    "            frequency[char]+=1\n",
    "        else:\n",
    "            frequency[char]=1\n",
    "        \n",
    "    return frequency\n",
    "\n",
    "input_string=\"aditya gavate\"\n",
    "\n",
    "print(character_freq(input_string))\n",
    "    "
   ]
  },
  {
   "cell_type": "code",
   "execution_count": 94,
   "id": "ae0f33fa",
   "metadata": {},
   "outputs": [
    {
     "name": "stdout",
     "output_type": "stream",
     "text": [
      "Original string: Hello, world! How's it going?\n",
      "Cleaned string: Hello world Hows it going\n"
     ]
    }
   ],
   "source": [
    "#Remove all punctuation from a string.\n",
    "import string\n",
    "\n",
    "def remove_punctuation(input_string):\n",
    "    \n",
    "    translator = str.maketrans(\"\", \"\", string.punctuation)\n",
    "\n",
    "    clean_string = input_string.translate(translator)\n",
    "\n",
    "    return clean_string\n",
    "\n",
    "input_str = \"Hello, world! How's it going?\"\n",
    "\n",
    "cleaned_str = remove_punctuation(input_str)\n",
    "\n",
    "print(\"Original string:\", input_str)\n",
    "print(\"Cleaned string:\", cleaned_str)"
   ]
  },
  {
   "cell_type": "code",
   "execution_count": 96,
   "id": "19c65940",
   "metadata": {},
   "outputs": [
    {
     "name": "stdout",
     "output_type": "stream",
     "text": [
      "'12345' contains only digits: True\n",
      "'Hello123' contains only digits: False\n",
      "'456.789' contains only digits: False\n"
     ]
    }
   ],
   "source": [
    "#Check if a string contains only digits.\n",
    "def contains_only_digits(input_string):\n",
    "\n",
    "    return input_string.isdigit()\n",
    "\n",
    "string1 = \"12345\"\n",
    "string2 = \"Hello123\"\n",
    "string3 = \"456.789\"\n",
    "\n",
    "result1 = contains_only_digits(string1)\n",
    "result2 = contains_only_digits(string2)\n",
    "result3 = contains_only_digits(string3)\n",
    "\n",
    "\n",
    "print(f\"'{string1}' contains only digits:\", result1)\n",
    "print(f\"'{string2}' contains only digits:\", result2)\n",
    "print(f\"'{string3}' contains only digits:\", result3)"
   ]
  },
  {
   "cell_type": "code",
   "execution_count": 97,
   "id": "956cf5f1",
   "metadata": {},
   "outputs": [
    {
     "name": "stdout",
     "output_type": "stream",
     "text": [
      "'Hello' contains only alphabets: True\n",
      "'Hello123' contains only alphabets: False\n",
      "'12345' contains only alphabets: False\n"
     ]
    }
   ],
   "source": [
    "#Check if a string contains only alphabets.\n",
    "def contains_only_alphabets(input_string):\n",
    "    return input_string.isalpha()\n",
    "\n",
    "\n",
    "string1 = \"Hello\"\n",
    "string2 = \"Hello123\"\n",
    "string3 = \"12345\"\n",
    "\n",
    "\n",
    "result1 = contains_only_alphabets(string1)\n",
    "result2 = contains_only_alphabets(string2)\n",
    "result3 = contains_only_alphabets(string3)\n",
    "\n",
    "\n",
    "print(f\"'{string1}' contains only alphabets:\", result1)\n",
    "print(f\"'{string2}' contains only alphabets:\", result2)\n",
    "print(f\"'{string3}' contains only alphabets:\", result3)"
   ]
  },
  {
   "cell_type": "code",
   "execution_count": 98,
   "id": "553a1f32",
   "metadata": {},
   "outputs": [
    {
     "name": "stdout",
     "output_type": "stream",
     "text": [
      "Original string: Hello, world!\n",
      "List of characters: ['H', 'e', 'l', 'l', 'o', ',', ' ', 'w', 'o', 'r', 'l', 'd', '!']\n"
     ]
    }
   ],
   "source": [
    "#Convert a string to a list of characters.\n",
    "def string_to_list(input_string):\n",
    "    char_list = list(input_string)\n",
    "    return char_list\n",
    "\n",
    "\n",
    "input_str = \"Hello, world!\"\n",
    "\n",
    "char_list = string_to_list(input_str)\n",
    "\n",
    "print(\"Original string:\", input_str)\n",
    "print(\"List of characters:\", char_list)"
   ]
  },
  {
   "cell_type": "code",
   "execution_count": 10,
   "id": "246f018e",
   "metadata": {},
   "outputs": [
    {
     "name": "stdout",
     "output_type": "stream",
     "text": [
      "the words are anagram\n"
     ]
    }
   ],
   "source": [
    "#Check if two strings are anagrams.\n",
    "def check_anagram(s1,s2):\n",
    "    \n",
    "    if sorted(s1)==sorted(s2):\n",
    "        print(\"the words are anagram\")\n",
    "    else :\n",
    "        print(\"the words are not anagram\")\n",
    "        \n",
    "s1= \"listen\"\n",
    "s2= \"silent\"\n",
    "check_anagram(s1,s2)"
   ]
  },
  {
   "cell_type": "code",
   "execution_count": 11,
   "id": "2ffca0fc",
   "metadata": {},
   "outputs": [
    {
     "name": "stdout",
     "output_type": "stream",
     "text": [
      "'listen' and 'silent' are anagrams: True\n",
      "'hello' and 'world' are anagrams: False\n"
     ]
    }
   ],
   "source": [
    "#Encode a string using a Caesar cipher.\n",
    "def are_anagrams(str1, str2):\n",
    "    # Remove spaces and convert strings to lowercase for accurate comparison\n",
    "    str1 = str1.replace(\" \", \"\").lower()\n",
    "    str2 = str2.replace(\" \", \"\").lower()\n",
    "\n",
    "    # Sort the characters in both strings and compare\n",
    "    return sorted(str1) == sorted(str2)\n",
    "\n",
    "# Example strings\n",
    "string1 = \"listen\"\n",
    "string2 = \"silent\"\n",
    "string3 = \"hello\"\n",
    "string4 = \"world\"\n",
    "\n",
    "# Check if strings are anagrams\n",
    "result1 = are_anagrams(string1, string2)\n",
    "result2 = are_anagrams(string3, string4)\n",
    "\n",
    "# Print the results\n",
    "print(f\"'{string1}' and '{string2}' are anagrams:\", result1)\n",
    "print(f\"'{string3}' and '{string4}' are anagrams:\", result2)"
   ]
  },
  {
   "cell_type": "code",
   "execution_count": 12,
   "id": "689653c9",
   "metadata": {},
   "outputs": [
    {
     "name": "stdout",
     "output_type": "stream",
     "text": [
      "Encoded text: ehoor, zruog!\n"
     ]
    }
   ],
   "source": [
    "#Encode a string using a Caesar cipher.\n",
    "# Define a function named caesar_cipher that encodes a string using a Caesar cipher.\n",
    "def caesar_cipher(text, shift):\n",
    "  \"\"\"\n",
    "  Encodes a string using a Caesar cipher.\n",
    "\n",
    "  Args:\n",
    "    text: The string to encode.\n",
    "    shift: The number of positions to shift each letter.\n",
    "\n",
    "  Returns:\n",
    "    The encoded string.\n",
    "  \"\"\"\n",
    "\n",
    "  # Initialize an empty string to store the encoded text.\n",
    "  encoded_text = \"\"\n",
    "\n",
    "  # Iterate through each character in the input text.\n",
    "  for char in text:\n",
    "    # Check if the character is alphabetic.\n",
    "    if char.isalpha():\n",
    "      # Calculate the encoded character's Unicode code point value by shifting it by the specified amount.\n",
    "      # Ensure the value wraps around within the lowercase alphabet range (a-z).\n",
    "      encoded_char = chr((ord(char) + shift - ord('a')) % 26 + ord('a'))\n",
    "    else:\n",
    "      # Keep non-alphabetic characters unchanged.\n",
    "      encoded_char = char\n",
    "\n",
    "    # Add the encoded character to the encoded text.\n",
    "    encoded_text += encoded_char\n",
    "\n",
    "  # Return the resulting encoded text.\n",
    "  return encoded_text\n",
    "\n",
    "# Define the input text and the shift value for encoding.\n",
    "text = \"Hello, world!\"\n",
    "shift = 3\n",
    "\n",
    "# Call the caesar_cipher function to encode the text using the specified shift.\n",
    "encoded_text = caesar_cipher(text, shift)\n",
    "\n",
    "# Print the encoded text.\n",
    "print(\"Encoded text:\", encoded_text)"
   ]
  },
  {
   "cell_type": "code",
   "execution_count": 13,
   "id": "3f423464",
   "metadata": {},
   "outputs": [
    {
     "name": "stdout",
     "output_type": "stream",
     "text": [
      "Decoded text: ilmm, world!\n"
     ]
    }
   ],
   "source": [
    "#Decode a Caesar cipher encoded string.\n",
    "# Define a function to decode a string using a Caesar cipher\n",
    "def caesar_cipher_decoder(text, shift):\n",
    "    \"\"\"\n",
    "    Decodes a string using a Caesar cipher.\n",
    "\n",
    "    Args:\n",
    "        text: The string to decode.\n",
    "        shift: The number of positions to shift each letter.\n",
    "\n",
    "    Returns:\n",
    "        The decoded string.\n",
    "    \"\"\"\n",
    "\n",
    "    # Initialize an empty string to store the decoded text\n",
    "    decoded_text = \"\"\n",
    "\n",
    "    # Loop through each character in the input text\n",
    "    for char in text:\n",
    "        # Check if the character is an alphabetic character\n",
    "        if char.isalpha():\n",
    "            # Calculate the decoded character using the shift value\n",
    "            decoded_char = chr((ord(char) - shift - ord('a')) % 26 + ord('a'))\n",
    "        else:\n",
    "            # If the character is not alphabetic, keep it unchanged\n",
    "            decoded_char = char\n",
    "\n",
    "        # Add the decoded character to the decoded text\n",
    "        decoded_text += decoded_char\n",
    "\n",
    "    # Return the fully decoded text\n",
    "    return decoded_text\n",
    "\n",
    "# Example input\n",
    "text = \"lopp, zruog!\"\n",
    "shift = 3\n",
    "\n",
    "# Call the caesar_cipher_decoder function to decode the input text\n",
    "decoded_text = caesar_cipher_decoder(text, shift)\n",
    "\n",
    "# Print the decoded text\n",
    "print(\"Decoded text:\", decoded_text)"
   ]
  },
  {
   "cell_type": "code",
   "execution_count": 17,
   "id": "fd26913f",
   "metadata": {},
   "outputs": [
    {
     "name": "stdout",
     "output_type": "stream",
     "text": [
      "Most frequent word: hello\n"
     ]
    }
   ],
   "source": [
    "#Find the most frequent word in a string.\n",
    "import re\n",
    "from collections import Counter\n",
    "\n",
    "def most_frequent_word(input_string):\n",
    "    # Remove punctuation and convert to lowercase\n",
    "    clean_string = re.sub(r'[^\\w\\s]', '', input_string).lower()\n",
    "\n",
    "    # Split the string into words\n",
    "    words = clean_string.split()\n",
    "\n",
    "    # Use Counter to count word frequencies\n",
    "    word_counter = Counter(words)\n",
    "\n",
    "    # Find the most common word\n",
    "    most_common_word = word_counter.most_common(1)[0][0]\n",
    "\n",
    "\n",
    "\n",
    "\n",
    "    return most_common_word\n",
    "\n",
    "# Example string\n",
    "input_str = \"Hello world, hello there! How's the world?\"\n",
    "\n",
    "# Find the most frequent word\n",
    "most_common = most_frequent_word(input_str)\n",
    "\n",
    "# Print the result\n",
    "print(\"Most frequent word:\", most_common)"
   ]
  },
  {
   "cell_type": "code",
   "execution_count": 18,
   "id": "587f4917",
   "metadata": {},
   "outputs": [
    {
     "name": "stdout",
     "output_type": "stream",
     "text": [
      "Unique words: {'the', 'hows', 'there', 'hello', 'world'}\n"
     ]
    }
   ],
   "source": [
    "#Find all unique words in a string.\n",
    "import re\n",
    "\n",
    "def unique_words(input_string):\n",
    "    # Remove punctuation and convert to lowercase\n",
    "    clean_string = re.sub(r'[^\\w\\s]', '', input_string).lower()\n",
    "\n",
    "    # Split the string into words and convert to a set for uniqueness\n",
    "    words = set(clean_string.split())\n",
    "\n",
    "    return words\n",
    "\n",
    "# Example string\n",
    "input_str = \"Hello world, hello there! How's the world?\"\n",
    "\n",
    "# Find unique words\n",
    "unique_word_set = unique_words(input_str)\n",
    "\n",
    "# Print the result\n",
    "print(\"Unique words:\", unique_word_set)"
   ]
  },
  {
   "cell_type": "code",
   "execution_count": 19,
   "id": "b63f63d8",
   "metadata": {},
   "outputs": [
    {
     "name": "stdout",
     "output_type": "stream",
     "text": [
      "'hello' has 2 syllables.\n",
      "'banana' has 3 syllables.\n",
      "'syllable' has 3 syllables.\n"
     ]
    }
   ],
   "source": [
    "#Count the number of syllables in a string.\n",
    "import re\n",
    "\n",
    "def count_syllables(word):\n",
    "    # Count vowel groups using regular expression\n",
    "    vowel_groups = re.findall(r'[aeiouy]+', word, re.IGNORECASE)\n",
    "\n",
    "    return len(vowel_groups)\n",
    "\n",
    "# Example words\n",
    "word1 = \"hello\"\n",
    "word2 = \"banana\"\n",
    "word3 = \"syllable\"\n",
    "\n",
    "# Count syllables\n",
    "syllables1 = count_syllables(word1)\n",
    "syllables2 = count_syllables(word2)\n",
    "syllables3 = count_syllables(word3)\n",
    "\n",
    "# Print the results\n",
    "print(f\"'{word1}' has {syllables1} syllables.\")\n",
    "print(f\"'{word2}' has {syllables2} syllables.\")\n",
    "print(f\"'{word3}' has {syllables3} syllables.\")"
   ]
  },
  {
   "cell_type": "code",
   "execution_count": 20,
   "id": "52d68e72",
   "metadata": {},
   "outputs": [
    {
     "name": "stdout",
     "output_type": "stream",
     "text": [
      "'Hello, world!' contains special characters: True\n",
      "'This is a test.' contains special characters: True\n",
      "'Special@Characters' contains special characters: True\n"
     ]
    }
   ],
   "source": [
    "#Check if a string contains any special characters.\n",
    "import re\n",
    "\n",
    "def contains_special_characters(input_string):\n",
    "    # Define a regular expression pattern to match special characters\n",
    "    pattern = re.compile(r'[!@#$%^&*()_+{}\\[\\]:;<>,.?~\\\\/]')\n",
    "\n",
    "    # Use the search() method to find a match\n",
    "    match = pattern.search(input_string)\n",
    "\n",
    "    # Return True if a match is found, False otherwise\n",
    "    return bool(match)\n",
    "\n",
    "# Example strings\n",
    "string1 = \"Hello, world!\"\n",
    "string2 = \"This is a test.\"\n",
    "string3 = \"Special@Characters\"\n",
    "\n",
    "# Check if strings contain special characters\n",
    "result1 = contains_special_characters(string1)\n",
    "result2 = contains_special_characters(string2)\n",
    "result3 = contains_special_characters(string3)\n",
    "\n",
    "# Print the results\n",
    "print(f\"'{string1}' contains special characters:\", result1)\n",
    "print(f\"'{string2}' contains special characters:\", result2)\n",
    "print(f\"'{string3}' contains special characters:\", result3)"
   ]
  },
  {
   "cell_type": "code",
   "execution_count": 21,
   "id": "00d67f31",
   "metadata": {},
   "outputs": [
    {
     "name": "stdout",
     "output_type": "stream",
     "text": [
      "Original string: This is an example sentence to test the function.\n",
      "Modified string: This is an sentence to test the function.\n",
      "Removed word: example\n"
     ]
    }
   ],
   "source": [
    "#Remove the nth word from a string.\n",
    "def remove_nth_word(input_string, n):\n",
    "    # Split the input string into words\n",
    "    words = input_string.split()\n",
    "\n",
    "    # Check if n is within a valid range\n",
    "    if n >= 1 and n <= len(words):\n",
    "        # Remove the nth word by excluding it from the words list\n",
    "        removed_word = words.pop(n - 1)\n",
    "\n",
    "        # Join the remaining words to form the modified string\n",
    "        modified_string = ' '.join(words)\n",
    "\n",
    "        return modified_string, removed_word\n",
    "    else:\n",
    "        return None, None\n",
    "\n",
    "# Example string and n value\n",
    "input_str = \"This is an example sentence to test the function.\"\n",
    "n_value = 4\n",
    "\n",
    "# Remove the nth word\n",
    "modified_str, removed_word = remove_nth_word(input_str, n_value)\n",
    "\n",
    "# Print the results\n",
    "print(\"Original string:\", input_str)\n",
    "if modified_str is not None:\n",
    "    print(\"Modified string:\", modified_str)\n",
    "    print(\"Removed word:\", removed_word)\n",
    "else:\n",
    "    print(\"Invalid n value.\")"
   ]
  },
  {
   "cell_type": "code",
   "execution_count": 22,
   "id": "6c6190c0",
   "metadata": {},
   "outputs": [
    {
     "name": "stdout",
     "output_type": "stream",
     "text": [
      "['Name', ' Age', ' Country']\n",
      "['John', ' 25', ' USA']\n",
      "['Alice', ' 30', ' Canada']\n",
      "['Bob', ' 22', ' UK']\n"
     ]
    }
   ],
   "source": [
    "#Convert a CSV string to a list of lists.\n",
    "def csv_string_to_list(csv_string):\n",
    "    # Split the CSV string into lines\n",
    "    lines = csv_string.split('\\n')\n",
    "\n",
    "    # Initialize an empty list to store the result\n",
    "    result = []\n",
    "\n",
    "    for line in lines:\n",
    "        # Split each line into fields using comma as the delimiter\n",
    "        fields = line.split(',')\n",
    "\n",
    "        # Append the fields to the result list as a row\n",
    "        result.append(fields)\n",
    "\n",
    "    return result\n",
    "\n",
    "# Example CSV string\n",
    "csv_data = \"Name, Age, Country\\nJohn, 25, USA\\nAlice, 30, Canada\\nBob, 22, UK\"\n",
    "\n",
    "# Convert CSV string to a list of lists\n",
    "list_of_lists = csv_string_to_list(csv_data)\n",
    "\n",
    "# Print the result\n",
    "for row in list_of_lists:\n",
    "    print(row)"
   ]
  },
  {
   "cell_type": "markdown",
   "id": "6603b647",
   "metadata": {},
   "source": [
    "## List based practice problem :"
   ]
  },
  {
   "cell_type": "code",
   "execution_count": 24,
   "id": "bd560ed1",
   "metadata": {},
   "outputs": [
    {
     "name": "stdout",
     "output_type": "stream",
     "text": [
      "[1, 2, 3, 4, 5, 6, 7, 8, 9, 10]\n"
     ]
    }
   ],
   "source": [
    "#Create a list with integers from 1 to 10.\n",
    "nums = range(1,11)\n",
    "print(list(nums))"
   ]
  },
  {
   "cell_type": "code",
   "execution_count": 28,
   "id": "42ea1683",
   "metadata": {},
   "outputs": [
    {
     "name": "stdout",
     "output_type": "stream",
     "text": [
      "the length of list: 6\n"
     ]
    }
   ],
   "source": [
    "#Find the length of a list without using the len() function.\n",
    "def count_len(input_list):\n",
    "    count=1\n",
    "    for i in input_list:\n",
    "        count+=1\n",
    "        \n",
    "    return count\n",
    "\n",
    "my_list = [10, 20, 30, 40, 50]\n",
    "\n",
    "length = count_len(my_list)\n",
    "print(\"the length of list:\",length)"
   ]
  },
  {
   "cell_type": "code",
   "execution_count": 33,
   "id": "de03ec37",
   "metadata": {},
   "outputs": [
    {
     "name": "stdout",
     "output_type": "stream",
     "text": [
      "[1, 2, 3, 4, 5, 6, 7, 8]\n"
     ]
    }
   ],
   "source": [
    "#Append an element to the end of a list.\n",
    "my_list=[1,2,3,4,5,6,7]\n",
    "\n",
    "new_element= 8\n",
    "\n",
    "my_list.append(new_element)\n",
    "print(my_list)"
   ]
  },
  {
   "cell_type": "code",
   "execution_count": 34,
   "id": "90ba7684",
   "metadata": {},
   "outputs": [
    {
     "name": "stdout",
     "output_type": "stream",
     "text": [
      "[1, 2, 3, 3, 4, 5, 6, 7]\n"
     ]
    }
   ],
   "source": [
    "#Insert an element at a specific index in a list.\n",
    "my_list=[1,2,3,4,5,6,7]\n",
    "\n",
    "new_element= 3\n",
    "\n",
    "my_list.insert(2,new_element)\n",
    "\n",
    "print(my_list)"
   ]
  },
  {
   "cell_type": "code",
   "execution_count": 35,
   "id": "b89eea79",
   "metadata": {},
   "outputs": [
    {
     "name": "stdout",
     "output_type": "stream",
     "text": [
      "Updated list: [10, 20, 40, 50]\n"
     ]
    }
   ],
   "source": [
    "#Remove an element from a list by its value.\n",
    "my_list = [10, 20, 30, 40, 50]\n",
    "\n",
    "element_to_remove = 30\n",
    "\n",
    "my_list.remove(element_to_remove)\n",
    "\n",
    "print(\"Updated list:\", my_list)"
   ]
  },
  {
   "cell_type": "code",
   "execution_count": 37,
   "id": "a07076d5",
   "metadata": {},
   "outputs": [
    {
     "name": "stdout",
     "output_type": "stream",
     "text": [
      "[10, 20, 30, 50]\n"
     ]
    }
   ],
   "source": [
    "#Remove an element from a list by its index.\n",
    "my_list = [10, 20, 30, 40, 50]\n",
    "\n",
    "my_list.pop(3)  #using pop function\n",
    "\n",
    "print(my_list)"
   ]
  },
  {
   "cell_type": "code",
   "execution_count": 38,
   "id": "5ba2f9fb",
   "metadata": {},
   "outputs": [
    {
     "name": "stdout",
     "output_type": "stream",
     "text": [
      "the element exist in list\n"
     ]
    }
   ],
   "source": [
    "#Check if an element exists in a list.\n",
    "my_list = [10, 20, 30, 40, 50]\n",
    "\n",
    "element = 30\n",
    " \n",
    "if element in my_list:\n",
    "    print(\"the element exist in list\")\n",
    "else:\n",
    "    print(\"the element does not exist in list\")"
   ]
  },
  {
   "cell_type": "code",
   "execution_count": 51,
   "id": "398f4a27",
   "metadata": {},
   "outputs": [
    {
     "name": "stdout",
     "output_type": "stream",
     "text": [
      "2\n",
      "the element 30 is 2\n"
     ]
    }
   ],
   "source": [
    "#Find the index of the first occurrence of an element in a list.\n",
    "my_list = [10, 20, 30, 40, 50]\n",
    "\n",
    "element=30\n",
    "\n",
    "index=my_list.index(element)\n",
    "\n",
    "print(my_list.index(element))\n",
    "print(f\"the element {element} is {index}\")"
   ]
  },
  {
   "cell_type": "code",
   "execution_count": 52,
   "id": "758490ad",
   "metadata": {},
   "outputs": [
    {
     "name": "stdout",
     "output_type": "stream",
     "text": [
      "3\n",
      "the element 30 occures 3\n"
     ]
    }
   ],
   "source": [
    "#Count the occurrences of an element in a list.\n",
    "my_list = [10, 20,30, 30, 30, 40, 50]\n",
    "\n",
    "element=30\n",
    "\n",
    "count=my_list.count(element)\n",
    "\n",
    "print(my_list.count(element))\n",
    "print (f\"the element {element} occures {count}\")"
   ]
  },
  {
   "cell_type": "code",
   "execution_count": 55,
   "id": "7085cff0",
   "metadata": {},
   "outputs": [
    {
     "name": "stdout",
     "output_type": "stream",
     "text": [
      "[9, 8, 7, 6, 5, 4, 3, 2, 1]\n"
     ]
    }
   ],
   "source": [
    "#Reverse the order of elements in a list.\n",
    "my_list=[1,2,3,4,5,6,7,8,9]\n",
    "\n",
    "my_list.reverse()\n",
    "\n",
    "print(my_list)"
   ]
  },
  {
   "cell_type": "code",
   "execution_count": 56,
   "id": "40689865",
   "metadata": {},
   "outputs": [
    {
     "name": "stdout",
     "output_type": "stream",
     "text": [
      "[10, 20, 30, 40, 50]\n"
     ]
    }
   ],
   "source": [
    "#Sort a list in ascending order.\n",
    "my_list = [50, 10, 30, 40, 20]\n",
    "\n",
    "my_list.sort()\n",
    "\n",
    "print(my_list)"
   ]
  },
  {
   "cell_type": "code",
   "execution_count": 58,
   "id": "e822c549",
   "metadata": {},
   "outputs": [
    {
     "name": "stdout",
     "output_type": "stream",
     "text": [
      "[50, 40, 30, 20, 10]\n"
     ]
    }
   ],
   "source": [
    "#Sorted a list in descending order\n",
    "my_list = [50, 10, 30, 40, 20]\n",
    "\n",
    "my_list.sort(reverse=True)\n",
    "\n",
    "print(my_list)"
   ]
  },
  {
   "cell_type": "code",
   "execution_count": 76,
   "id": "d38cfb4c",
   "metadata": {},
   "outputs": [
    {
     "name": "stdout",
     "output_type": "stream",
     "text": [
      "List of even numbers: [2, 4, 6, 8, 10, 12, 14, 16, 18, 20]\n"
     ]
    }
   ],
   "source": [
    "#Create a list of even numbers from 1 to 20.\n",
    "even_numbers = [ x for x in range(2, 21, 2)]\n",
    "\n",
    "print(\"List of even numbers:\", even_numbers)"
   ]
  },
  {
   "cell_type": "code",
   "execution_count": 77,
   "id": "897dd6bb",
   "metadata": {},
   "outputs": [
    {
     "name": "stdout",
     "output_type": "stream",
     "text": [
      "List of odd numbers: [1, 3, 5, 7, 9, 11, 13, 15, 17, 19]\n"
     ]
    }
   ],
   "source": [
    "#Create a list of odd numbers from 1 to 20.\n",
    "odd_numbers = [x for x in range(1, 21, 2)]\n",
    "\n",
    "print(\"List of odd numbers:\", odd_numbers)"
   ]
  },
  {
   "cell_type": "code",
   "execution_count": 236,
   "id": "4ff4b958",
   "metadata": {},
   "outputs": [
    {
     "name": "stdout",
     "output_type": "stream",
     "text": [
      "the sum of the list 150\n"
     ]
    }
   ],
   "source": [
    "# Find the sum of all elements in a list.\n",
    "my_list = [50, 10, 30, 40, 20]\n",
    "\n",
    "total= sum(my_list)\n",
    "\n",
    "print(\"the sum of the list\",total)"
   ]
  },
  {
   "cell_type": "code",
   "execution_count": 81,
   "id": "74cb28c8",
   "metadata": {},
   "outputs": [
    {
     "name": "stdout",
     "output_type": "stream",
     "text": [
      "the maximum value of list: 50\n"
     ]
    }
   ],
   "source": [
    "#Find the maximum value in a list.\n",
    "my_list = [50, 10, 30, 40, 20]\n",
    "\n",
    "max_value=max(my_list)\n",
    "\n",
    "print(\"the maximum value of list:\",max_value)"
   ]
  },
  {
   "cell_type": "code",
   "execution_count": 83,
   "id": "3d84fe62",
   "metadata": {},
   "outputs": [
    {
     "name": "stdout",
     "output_type": "stream",
     "text": [
      "the minimum value of list: 10\n"
     ]
    }
   ],
   "source": [
    "#Find the minimum value in a list.\n",
    "my_list = [50, 10, 30, 40, 20]\n",
    "\n",
    "min_value=min(my_list)\n",
    "\n",
    "print(\"the minimum value of list:\",min_value)"
   ]
  },
  {
   "cell_type": "code",
   "execution_count": 86,
   "id": "ef1fb0e6",
   "metadata": {},
   "outputs": [
    {
     "name": "stdout",
     "output_type": "stream",
     "text": [
      "the squares: [1, 4, 9, 16, 25, 36, 49, 64, 81, 100]\n"
     ]
    }
   ],
   "source": [
    "#Create a list of squares of numbers from 1 to 10.\n",
    "square= [x**2 for x in range (1,11)]\n",
    "\n",
    "print(\"the squares:\",square)"
   ]
  },
  {
   "cell_type": "code",
   "execution_count": 93,
   "id": "469fc4b7",
   "metadata": {},
   "outputs": [
    {
     "name": "stdout",
     "output_type": "stream",
     "text": [
      "[27, 90, 80, 73, 77, 46, 77, 23, 77, 52]\n"
     ]
    }
   ],
   "source": [
    "#Create a list of random numbers.\n",
    "import random\n",
    "\n",
    "random_integers = [random.randint(1, 100) for _ in range(10)]\n",
    "\n",
    "print(random_integers)"
   ]
  },
  {
   "cell_type": "code",
   "execution_count": 101,
   "id": "bd2fbfeb",
   "metadata": {},
   "outputs": [
    {
     "name": "stdout",
     "output_type": "stream",
     "text": [
      "[40, 10, 50, 20, 30]\n"
     ]
    }
   ],
   "source": [
    "#Remove duplicates from a list.\n",
    "my_list = [10, 20, 30, 20, 40, 10, 50, 30]\n",
    "\n",
    "remove = list(set(my_list))\n",
    "\n",
    "print(remove)"
   ]
  },
  {
   "cell_type": "code",
   "execution_count": 106,
   "id": "88ce720e",
   "metadata": {},
   "outputs": [
    {
     "name": "stdout",
     "output_type": "stream",
     "text": [
      "{5}\n",
      "No common elements\n"
     ]
    }
   ],
   "source": [
    "#Find the common elements between two lists.\n",
    "\n",
    "def common_member(a, b):\n",
    "    l1= set(a)\n",
    "    l2 = set(b)\n",
    "\n",
    "    if (l1 & l2):\n",
    "        print(l1 & l2)\n",
    "    else:\n",
    "        print(\"No common elements\")\n",
    "\n",
    "\n",
    "a = [1, 2, 3, 4, 5]\n",
    "b = [5, 6, 7, 8, 9]\n",
    "common_member(a, b)\n",
    "\n",
    "a = [1, 2, 3, 4, 5]\n",
    "b = [6, 7, 8, 9]\n",
    "common_member(a, b)\n"
   ]
  },
  {
   "cell_type": "code",
   "execution_count": 112,
   "id": "fb30ed92",
   "metadata": {},
   "outputs": [
    {
     "name": "stdout",
     "output_type": "stream",
     "text": [
      "the difference between two lists are [20, 10]\n"
     ]
    }
   ],
   "source": [
    "#Find the difference between two lists.\n",
    "list1 = [10, 20, 30, 40, 50]\n",
    "list2 = [30, 40, 50, 60, 70]\n",
    "\n",
    "difference = list(set(list1).difference(list2))\n",
    "\n",
    "print(\"the difference between two lists are\" ,difference)"
   ]
  },
  {
   "cell_type": "code",
   "execution_count": 114,
   "id": "a47669a9",
   "metadata": {},
   "outputs": [
    {
     "name": "stdout",
     "output_type": "stream",
     "text": [
      "[10, 20, 30, 40, 50, 30, 40, 50, 60, 70]\n"
     ]
    }
   ],
   "source": [
    "#Merge two lists.\n",
    "list1 = [10, 20, 30, 40, 50]\n",
    "list2 = [30, 40, 50, 60, 70]\n",
    "\n",
    "merge_list = list1 + list2\n",
    "print(merge_list)"
   ]
  },
  {
   "cell_type": "code",
   "execution_count": 116,
   "id": "031429f0",
   "metadata": {},
   "outputs": [
    {
     "name": "stdout",
     "output_type": "stream",
     "text": [
      "multiplied list [20, 40, 60, 80, 100]\n"
     ]
    }
   ],
   "source": [
    "#Multiply all elements in a list by 2.\n",
    "my_list = [10, 20, 30, 40, 50]\n",
    "\n",
    "new_list=[x*2 for x in  my_list]\n",
    "\n",
    "print(\"multiplied list\",new_list)"
   ]
  },
  {
   "cell_type": "code",
   "execution_count": 121,
   "id": "296d7681",
   "metadata": {},
   "outputs": [
    {
     "name": "stdout",
     "output_type": "stream",
     "text": [
      "[12, 14]\n"
     ]
    }
   ],
   "source": [
    "#Filter out all even numbers from a list.\n",
    "my_list = [11, 12, 13, 14, 15]\n",
    "\n",
    "num=[]\n",
    "\n",
    "for x in my_list:\n",
    "    if x%2 == 0:\n",
    "        num.append(x)\n",
    "    \n",
    "print(num)\n",
    "    "
   ]
  },
  {
   "cell_type": "code",
   "execution_count": 123,
   "id": "845fb802",
   "metadata": {},
   "outputs": [
    {
     "name": "stdout",
     "output_type": "stream",
     "text": [
      "List of integers: [10, 20, 30, 40, 50]\n"
     ]
    }
   ],
   "source": [
    "#Convert a list of strings to a list of integers.\n",
    "string_list = [\"10\", \"20\", \"30\", \"40\", \"50\"]\n",
    "\n",
    "\n",
    "integer_list = [int(x) for x in string_list]\n",
    "\n",
    "\n",
    "print(\"List of integers:\", integer_list)"
   ]
  },
  {
   "cell_type": "code",
   "execution_count": 125,
   "id": "0f9d7285",
   "metadata": {},
   "outputs": [
    {
     "name": "stdout",
     "output_type": "stream",
     "text": [
      "[10, 20, 30, 40, 50]\n"
     ]
    }
   ],
   "source": [
    "#Convert a list of integers to a list of strings.\n",
    "integer_list = [10, 20, 30, 40, 50]\n",
    "\n",
    "string_list= str(integer_list)\n",
    "\n",
    "print(string_list)"
   ]
  },
  {
   "cell_type": "code",
   "execution_count": 128,
   "id": "0e01b5f5",
   "metadata": {},
   "outputs": [
    {
     "name": "stdout",
     "output_type": "stream",
     "text": [
      "Flattened list: [1, 2, 3, 4, 5, 6, 7, 8, 9]\n"
     ]
    }
   ],
   "source": [
    "#Flatten a nested list.\n",
    "# Example nested list\n",
    "nested_list = [[1, 2, 3], [4, 5], [6, 7, 8, 9]]\n",
    "\n",
    "# Function to flatten a nested list\n",
    "def flatten_list(nested):\n",
    "    flattened = []\n",
    "    for sublist in nested:\n",
    "        if isinstance(sublist, list):\n",
    "            flattened.extend(flatten_list(sublist))\n",
    "        else:\n",
    "            flattened.append(sublist)\n",
    "    return flattened\n",
    "\n",
    "# Flatten the nested list\n",
    "flattened_list = flatten_list(nested_list)\n",
    "\n",
    "# Print the flattened list\n",
    "print(\"Flattened list:\", flattened_list)"
   ]
  },
  {
   "cell_type": "code",
   "execution_count": 129,
   "id": "8e1f1f6f",
   "metadata": {},
   "outputs": [
    {
     "name": "stdout",
     "output_type": "stream",
     "text": [
      "First 10 Fibonacci numbers: [0, 1]\n"
     ]
    }
   ],
   "source": [
    "#Create a list of the first 10 Fibonacci numbers.\n",
    "# Function to generate the first n Fibonacci numbers\n",
    "def generate_fibonacci(n):\n",
    "    fibonacci_list = [0, 1]  # Initialize the list with the first two Fibonacci numbers\n",
    "\n",
    "    for i in range(2, n):\n",
    "        next_fibonacci = fibonacci_list[i - 1] + fibonacci_list[i - 2]\n",
    "        fibonacci_list.append(next_fibonacci)\n",
    "\n",
    "    return fibonacci_list\n",
    "\n",
    "# Generate the first 10 Fibonacci numbers\n",
    "fibonacci_numbers = generate_fibonacci(2)\n",
    "\n",
    "# Print the list of Fibonacci numbers\n",
    "print(\"First 10 Fibonacci numbers:\", fibonacci_numbers)"
   ]
  },
  {
   "cell_type": "code",
   "execution_count": 130,
   "id": "4e28b1a3",
   "metadata": {},
   "outputs": [
    {
     "name": "stdout",
     "output_type": "stream",
     "text": [
      "The list is sorted in ascending order.\n"
     ]
    }
   ],
   "source": [
    "#Check if a list is sorted.\n",
    "# Function to check if a list is sorted in ascending order\n",
    "def is_sorted_ascending(lst):\n",
    "    for i in range(1, len(lst)):\n",
    "        if lst[i] < lst[i - 1]:\n",
    "            return False\n",
    "    return True\n",
    "\n",
    "# Example list\n",
    "ascending_list = [10, 20, 30, 40, 50]\n",
    "\n",
    "# Check if the list is sorted in ascending order\n",
    "if is_sorted_ascending(ascending_list):\n",
    "    print(\"The list is sorted in ascending order.\")\n",
    "else:\n",
    "    print(\"The list is not sorted in ascending order.\")"
   ]
  },
  {
   "cell_type": "code",
   "execution_count": 131,
   "id": "b37f2297",
   "metadata": {},
   "outputs": [
    {
     "name": "stdout",
     "output_type": "stream",
     "text": [
      "Rotated list: [3, 4, 5, 6, 1, 2]\n"
     ]
    }
   ],
   "source": [
    "#Rotate a list to the left by n positions.\n",
    "# Function to rotate a list to the left by n positions\n",
    "def rotate_left(lst, n):\n",
    "    n = n % len(lst)  # Normalize n to handle cases where n is larger than the list length\n",
    "    # print(n)\n",
    "    rotated = lst[n:] + lst[:n]\n",
    "    return rotated\n",
    "\n",
    "# Example list\n",
    "my_list = [1, 2, 3, 4, 5, 6]\n",
    "\n",
    "# Number of positions to rotate by\n",
    "n = 2\n",
    "\n",
    "# Rotate the list to the left by n positions\n",
    "rotated_list = rotate_left(my_list, n)\n",
    "\n",
    "# Print the rotated list\n",
    "print(\"Rotated list:\", rotated_list)"
   ]
  },
  {
   "cell_type": "code",
   "execution_count": 132,
   "id": "1c9146cb",
   "metadata": {},
   "outputs": [
    {
     "name": "stdout",
     "output_type": "stream",
     "text": [
      "Rotated list: [5, 6, 1, 2, 3, 4]\n"
     ]
    }
   ],
   "source": [
    "#Rotate a list to the right by n positions.\n",
    "# Function to rotate a list to the right by n positions\n",
    "def rotate_right(lst, n):\n",
    "    n = n % len(lst)  # Normalize n to handle cases where n is larger than the list length\n",
    "    # print(n)\n",
    "    rotated = lst[-n:] + lst[:-n]\n",
    "    return rotated\n",
    "\n",
    "# Example list\n",
    "my_list = [1, 2, 3, 4, 5, 6]\n",
    "\n",
    "# Number of positions to rotate by\n",
    "n = 2\n",
    "\n",
    "# Rotate the list to the right by n positions\n",
    "rotated_list = rotate_right(my_list, n)\n",
    "\n",
    "# Print the rotated list\n",
    "print(\"Rotated list:\", rotated_list)"
   ]
  },
  {
   "cell_type": "code",
   "execution_count": 133,
   "id": "6786dd89",
   "metadata": {},
   "outputs": [
    {
     "name": "stdout",
     "output_type": "stream",
     "text": [
      "5 25\n",
      "5 29\n",
      "List of prime numbers up to 50: [2, 3, 5, 7, 11, 13, 17, 19, 23, 29]\n"
     ]
    }
   ],
   "source": [
    "#Create a list of prime numbers up to 50.\n",
    "# Function to check if a number is prime\n",
    "def is_prime(num):\n",
    "    if num <= 1:\n",
    "        return False\n",
    "    if num <= 3:\n",
    "        return True\n",
    "    if num % 2 == 0 or num % 3 == 0:\n",
    "        return False\n",
    "    i = 5\n",
    "    while i * i <= num:\n",
    "      print(i,num)\n",
    "      if num % i == 0 or num % (i + 2) == 0:\n",
    "          return False\n",
    "      i += 6\n",
    "    return True\n",
    "\n",
    "# Create a list of prime numbers up to 50\n",
    "prime_numbers = [num for num in range(2,30) if is_prime(num)]\n",
    "\n",
    "# Print the list of prime numbers\n",
    "print(\"List of prime numbers up to 50:\", prime_numbers)"
   ]
  },
  {
   "cell_type": "code",
   "execution_count": 134,
   "id": "62259390",
   "metadata": {},
   "outputs": [
    {
     "name": "stdout",
     "output_type": "stream",
     "text": [
      "List of prime numbers up to 50: [2, 3, 5, 7, 11, 13, 17, 19, 23, 29, 31, 37, 41, 43, 47]\n"
     ]
    }
   ],
   "source": [
    "#Split a list into chunks of size n.\n",
    "# Create a list of prime numbers up to 50 using Sieve of Eratosthenes algorithm\n",
    "def sieve_of_eratosthenes(limit):\n",
    "    primes = []\n",
    "    is_prime = [True] * (limit + 1)\n",
    "    is_prime[0] = is_prime[1] = False\n",
    "\n",
    "    for num in range(2, int(limit ** 0.5) + 1):\n",
    "        if is_prime[num]:\n",
    "            primes.append(num)\n",
    "            for multiple in range(num * num, limit + 1, num):\n",
    "                is_prime[multiple] = False\n",
    "\n",
    "    for num in range(int(limit ** 0.5) + 1, limit + 1):\n",
    "        if is_prime[num]:\n",
    "            primes.append(num)\n",
    "\n",
    "    return primes\n",
    "\n",
    "# Create a list of prime numbers up to 50\n",
    "prime_numbers = sieve_of_eratosthenes(50)\n",
    "\n",
    "# Print the list of prime numbers\n",
    "print(\"List of prime numbers up to 50:\", prime_numbers)"
   ]
  },
  {
   "cell_type": "code",
   "execution_count": 135,
   "id": "0521ee1d",
   "metadata": {},
   "outputs": [
    {
     "name": "stdout",
     "output_type": "stream",
     "text": [
      "Second largest number: 25\n"
     ]
    }
   ],
   "source": [
    "#Find the second largest number in a list.\n",
    "my_list = [10, 5, 20, 15, 30, 25]\n",
    "\n",
    "# Remove duplicates and sort the list in ascending order\n",
    "sorted_list = sorted(set(my_list))\n",
    "\n",
    "# Find the second largest number\n",
    "if len(sorted_list) >= 2:\n",
    "    second_largest = sorted_list[-2]\n",
    "    print(\"Second largest number:\", second_largest)\n",
    "else:\n",
    "    print(\"The list does not contain enough elements.\")"
   ]
  },
  {
   "cell_type": "code",
   "execution_count": 136,
   "id": "407431b8",
   "metadata": {},
   "outputs": [
    {
     "name": "stdout",
     "output_type": "stream",
     "text": [
      "[4, 16, 36, 64, 100]\n"
     ]
    }
   ],
   "source": [
    "#Replace every element in a list with its square.\n",
    "my_list = [2, 4, 6, 8, 10]\n",
    "\n",
    "squared_list= [x**2 for x in my_list]\n",
    "\n",
    "print(squared_list)"
   ]
  },
  {
   "cell_type": "code",
   "execution_count": 138,
   "id": "6b54d9bc",
   "metadata": {},
   "outputs": [
    {
     "name": "stdout",
     "output_type": "stream",
     "text": [
      "Converted dictionary: {'apple': 0, 'banana': 1, 'cherry': 2, 'date': 3, 'elderberry': 4}\n"
     ]
    }
   ],
   "source": [
    "#Convert a list to a dictionary where list elements become keys and their indices become values.\n",
    "my_list = ['apple', 'banana', 'cherry', 'date', 'elderberry']\n",
    "\n",
    "# Convert list to dictionary using dictionary comprehension\n",
    "my_dict = {element: index for index, element in enumerate(my_list)}\n",
    "\n",
    "# Print the resulting dictionary\n",
    "print(\"Converted dictionary:\", my_dict)"
   ]
  },
  {
   "cell_type": "code",
   "execution_count": 139,
   "id": "65a92486",
   "metadata": {},
   "outputs": [
    {
     "name": "stdout",
     "output_type": "stream",
     "text": [
      "Shuffled list: [2, 8, 1, 5, 7, 10, 6, 3, 9, 4]\n"
     ]
    }
   ],
   "source": [
    "#Shuffle the elements of a list randomly.\n",
    "import random\n",
    "\n",
    "\n",
    "my_list = [1, 2, 3, 4, 5, 6, 7, 8, 9, 10]\n",
    "\n",
    "# Shuffle the list randomly\n",
    "random.shuffle(my_list)\n",
    "\n",
    "# Print the shuffled list\n",
    "print(\"Shuffled list:\", my_list)"
   ]
  },
  {
   "cell_type": "code",
   "execution_count": 140,
   "id": "8632581f",
   "metadata": {},
   "outputs": [
    {
     "name": "stdout",
     "output_type": "stream",
     "text": [
      "List of the first 10 factorial numbers: [1, 1, 2, 6, 24, 120, 720, 5040, 40320, 362880]\n"
     ]
    }
   ],
   "source": [
    "#Create a list of the first 10 factorial numbers.\n",
    "def factorial(n):\n",
    "    if n == 0 or n == 1:\n",
    "        return 1\n",
    "    else:\n",
    "        return n * factorial(n - 1)\n",
    "\n",
    "# Create a list of the first 10 factorial numbers\n",
    "factorial_numbers = [factorial(i) for i in range(10)]\n",
    "\n",
    "# Print the list of factorial numbers\n",
    "print(\"List of the first 10 factorial numbers:\", factorial_numbers)"
   ]
  },
  {
   "cell_type": "code",
   "execution_count": 141,
   "id": "ec4acc6d",
   "metadata": {},
   "outputs": [
    {
     "name": "stdout",
     "output_type": "stream",
     "text": [
      "The lists have at least one common element.\n"
     ]
    }
   ],
   "source": [
    "#Check if two lists have at least one element in common.\n",
    "def has_common_element(list1, list2):\n",
    "    for item in list1:\n",
    "        if item in list2:\n",
    "            return True\n",
    "    return False\n",
    "\n",
    "# Example lists\n",
    "list1 = [1, 2, 3, 4, 5]\n",
    "list2 = [4, 5, 6, 7, 8]\n",
    "\n",
    "# Check if the two lists have at least one element in common\n",
    "if has_common_element(list1, list2):\n",
    "    print(\"The lists have at least one common element.\")\n",
    "else:\n",
    "    print(\"The lists do not have any common elements.\")"
   ]
  },
  {
   "cell_type": "code",
   "execution_count": 142,
   "id": "68dee514",
   "metadata": {},
   "outputs": [
    {
     "name": "stdout",
     "output_type": "stream",
     "text": [
      "Empty list: []\n"
     ]
    }
   ],
   "source": [
    "#Remove all elements from a list.\n",
    "my_list = [1, 2, 3, 4, 5]\n",
    "\n",
    "my_list.clear()\n",
    "\n",
    "# Print the empty list\n",
    "print(\"Empty list:\", my_list)"
   ]
  },
  {
   "cell_type": "code",
   "execution_count": 144,
   "id": "11a054e0",
   "metadata": {},
   "outputs": [
    {
     "name": "stdout",
     "output_type": "stream",
     "text": [
      "List after replacing negative numbers with 0: [10, 0, 20, 0, 30, 0]\n"
     ]
    }
   ],
   "source": [
    "#Replace negative numbers in a list with 0.\n",
    "my_list = [10, -5, 20, -15, 30, -25]\n",
    "\n",
    "for i in range(len(my_list)):\n",
    "    if my_list[i] < 0:\n",
    "        my_list[i] = 0\n",
    "\n",
    "# Print the list after replacing negative numbers with 0\n",
    "print(\"List after replacing negative numbers with 0:\", my_list)"
   ]
  },
  {
   "cell_type": "code",
   "execution_count": 149,
   "id": "42036e36",
   "metadata": {},
   "outputs": [
    {
     "name": "stdout",
     "output_type": "stream",
     "text": [
      "0\n",
      "1\n",
      "2\n",
      "3\n",
      "4\n",
      "5\n"
     ]
    }
   ],
   "source": [
    "my_list = [10, -5, 20, -15, 30, -25]\n",
    "\n",
    "for i in range(len(my_list)):\n",
    "    print(i)"
   ]
  },
  {
   "cell_type": "code",
   "execution_count": 150,
   "id": "e229e62c",
   "metadata": {},
   "outputs": [
    {
     "name": "stdout",
     "output_type": "stream",
     "text": [
      "['Hello,', 'this', 'is', 'a', 'sample', 'sentence.']\n"
     ]
    }
   ],
   "source": [
    "#Convert a string into a list of words.\n",
    "my_string = \"Hello, this is a sample sentence.\"\n",
    "\n",
    "new_list=my_string.split()\n",
    "\n",
    "print(new_list)"
   ]
  },
  {
   "cell_type": "code",
   "execution_count": 152,
   "id": "f4695ca5",
   "metadata": {},
   "outputs": [
    {
     "name": "stdout",
     "output_type": "stream",
     "text": [
      "Hello, this is a sample sentence.\n"
     ]
    }
   ],
   "source": [
    "#Convert a list of words into a string.\n",
    "word_list = [\"Hello,\", \"this\", \"is\", \"a\", \"sample\", \"sentence.\"]\n",
    "\n",
    "my_string=' '.join(word_list)\n",
    "\n",
    "print(my_string)"
   ]
  },
  {
   "cell_type": "code",
   "execution_count": 153,
   "id": "adaf1b48",
   "metadata": {},
   "outputs": [
    {
     "name": "stdout",
     "output_type": "stream",
     "text": [
      "[1, 2, 4, 8, 16]\n"
     ]
    }
   ],
   "source": [
    "#create a list of the first n powers of 2.\n",
    "n = 5\n",
    "\n",
    "power_list= [2**i for i in range(n)]\n",
    "\n",
    "print(power_list)"
   ]
  },
  {
   "cell_type": "code",
   "execution_count": 155,
   "id": "415bfb40",
   "metadata": {},
   "outputs": [
    {
     "name": "stdout",
     "output_type": "stream",
     "text": [
      "the longest string: elderberry\n"
     ]
    }
   ],
   "source": [
    "#Find the longest string in a list of strings.\n",
    "string_list = [\"apple\", \"banana\", \"cherry\", \"date\", \"elderberry\"]\n",
    "\n",
    "longest_string=\" \"\n",
    "for s in string_list:\n",
    "    if len(s) > len(longest_string):\n",
    "        longest_string=s\n",
    "    \n",
    "print(\"the longest string:\",longest_string)"
   ]
  },
  {
   "cell_type": "code",
   "execution_count": 156,
   "id": "d1875c95",
   "metadata": {},
   "outputs": [
    {
     "name": "stdout",
     "output_type": "stream",
     "text": [
      "Shortest string: date\n"
     ]
    }
   ],
   "source": [
    "#find the shortest string in a list of strings.\n",
    "string_list = [\"apple\", \"banana\", \"cherry\", \"date\", \"elderberry\"]\n",
    "\n",
    "shortest_string = string_list[0]  # Initialize with the first string\n",
    "for s in string_list:\n",
    "    if len(s) < len(shortest_string):\n",
    "        shortest_string = s\n",
    "\n",
    "# Print the shortest string\n",
    "print(\"Shortest string:\", shortest_string)"
   ]
  },
  {
   "cell_type": "code",
   "execution_count": 157,
   "id": "daffa601",
   "metadata": {},
   "outputs": [
    {
     "name": "stdout",
     "output_type": "stream",
     "text": [
      "List of the first 5 triangular numbers: [1, 3, 6, 10, 15]\n"
     ]
    }
   ],
   "source": [
    "#Create a list of the first n triangular numbers.\n",
    "def triangular_numbers(n):\n",
    "    return [i * (i + 1) // 2 for i in range(1, n + 1)]\n",
    "\n",
    "# Specify the value of n\n",
    "n = 5\n",
    "\n",
    "# Create a list of the first n triangular numbers\n",
    "triangular_list = triangular_numbers(n)\n",
    "\n",
    "# Print the list of triangular numbers\n",
    "print(\"List of the first\", n, \"triangular numbers:\", triangular_list)"
   ]
  },
  {
   "cell_type": "code",
   "execution_count": 158,
   "id": "ea3d2e41",
   "metadata": {},
   "outputs": [
    {
     "name": "stdout",
     "output_type": "stream",
     "text": [
      "Main list contains the subsequence.\n"
     ]
    }
   ],
   "source": [
    "#Check if a list contains another list as a subsequence.\n",
    "def is_subsequence(subsequence, main_list):\n",
    "    subseq_index = 0  # Index for the subsequence elements\n",
    "    for element in main_list:\n",
    "        if element == subsequence[subseq_index]:\n",
    "            subseq_index += 1\n",
    "            if subseq_index == len(subsequence):\n",
    "                return True\n",
    "    return False\n",
    "\n",
    "# Example main list and subsequence\n",
    "main_list = [1, 2, 3, 4, 5, 6, 7, 8, 9, 10]\n",
    "subsequence = [3, 5, 8]\n",
    "\n",
    "# Check if the main list contains the subsequence\n",
    "if is_subsequence(subsequence, main_list):\n",
    "    print(\"Main list contains the subsequence.\")\n",
    "else:\n",
    "    print(\"Main list does not contain the subsequence.\")"
   ]
  },
  {
   "cell_type": "code",
   "execution_count": 160,
   "id": "bf254199",
   "metadata": {},
   "outputs": [
    {
     "name": "stdout",
     "output_type": "stream",
     "text": [
      "List after swapping elements: [1, 4, 3, 2, 5]\n"
     ]
    }
   ],
   "source": [
    "#Swap two elements in a list by their indices.\n",
    "my_list = [1, 2, 3, 4, 5]\n",
    "\n",
    "# Indices of elements to swap\n",
    "index1 = 1\n",
    "index2 = 3\n",
    "\n",
    "# Swap the elements at the specified indices\n",
    "temp = my_list[index1]\n",
    "my_list[index1] = my_list[index2]\n",
    "my_list[index2] = temp\n",
    "\n",
    "# Print the list after swapping\n",
    "print(\"List after swapping elements:\", my_list)"
   ]
  },
  {
   "cell_type": "markdown",
   "id": "5e8cf57a",
   "metadata": {},
   "source": [
    "## Tuple based practice problem :"
   ]
  },
  {
   "cell_type": "code",
   "execution_count": 173,
   "id": "56b345d0",
   "metadata": {},
   "outputs": [
    {
     "name": "stdout",
     "output_type": "stream",
     "text": [
      "(1, 2, 3, 4, 5)\n"
     ]
    }
   ],
   "source": [
    "#Create a tuple with integers from 1 to 5.\n",
    "\n",
    "my_tuple=(1,2,3,4,5)\n",
    "print(my_tuple)"
   ]
  },
  {
   "cell_type": "code",
   "execution_count": 177,
   "id": "68fd368d",
   "metadata": {},
   "outputs": [
    {
     "name": "stdout",
     "output_type": "stream",
     "text": [
      "3\n"
     ]
    }
   ],
   "source": [
    "#Access the third element of a tuple.\n",
    "\n",
    "my_tuple=(1,2,3,4,5)\n",
    "\n",
    "print(my_tuple[2])"
   ]
  },
  {
   "cell_type": "code",
   "execution_count": 181,
   "id": "700ed318",
   "metadata": {},
   "outputs": [
    {
     "name": "stdout",
     "output_type": "stream",
     "text": [
      "the length of the tuple: 5\n"
     ]
    }
   ],
   "source": [
    "#Find the length of a tuple without using the len() function.\n",
    "my_tuple = (10, 20, 30, 40, 50)\n",
    "\n",
    "count=0\n",
    "for  x in my_tuple:\n",
    "    count+=1\n",
    "    \n",
    "print(\"the length of the tuple:\",count)"
   ]
  },
  {
   "cell_type": "code",
   "execution_count": 182,
   "id": "381f5e63",
   "metadata": {},
   "outputs": [
    {
     "name": "stdout",
     "output_type": "stream",
     "text": [
      "the occurence: 2\n"
     ]
    }
   ],
   "source": [
    "#Count the occurrences of an element in a tuple.\n",
    "my_tuple = (10, 20, 30, 40, 50,30)\n",
    "\n",
    "element=30\n",
    "\n",
    "count=0\n",
    "\n",
    "for x in my_tuple:\n",
    "    if x == element:\n",
    "        count+=1\n",
    "print(\"the occurence:\",count)"
   ]
  },
  {
   "cell_type": "code",
   "execution_count": 184,
   "id": "5a1eccee",
   "metadata": {},
   "outputs": [
    {
     "name": "stdout",
     "output_type": "stream",
     "text": [
      "the occurence of 30: 2\n"
     ]
    }
   ],
   "source": [
    "#Find the index of the first occurrence of an element in a tuple.\n",
    "my_tuple = (10, 20, 30, 20, 40, 50)\n",
    "occurence=my_tuple.index(30)\n",
    "print(\"the occurence of 30:\",occurence)"
   ]
  },
  {
   "cell_type": "code",
   "execution_count": 190,
   "id": "e18c82a5",
   "metadata": {},
   "outputs": [
    {
     "name": "stdout",
     "output_type": "stream",
     "text": [
      "the element exist in the list\n"
     ]
    }
   ],
   "source": [
    "#Check if an element exists in a tuple.\n",
    "\n",
    "my_tuple = (10, 20, 30, 20, 40, 50)\n",
    "element=30\n",
    "if element in  my_tuple:\n",
    "        print(\"the element exist in the list\")\n",
    "        \n",
    "else:\n",
    "        print(\"the element does not exist in the list\")"
   ]
  },
  {
   "cell_type": "code",
   "execution_count": 191,
   "id": "609324c1",
   "metadata": {},
   "outputs": [
    {
     "name": "stdout",
     "output_type": "stream",
     "text": [
      "[10, 20, 30, 20, 40, 50]\n"
     ]
    }
   ],
   "source": [
    "#Convert a tuple to a list.\n",
    "my_tuple = (10, 20, 30, 20, 40, 50)\n",
    "\n",
    "my_list= list(my_tuple)\n",
    "\n",
    "print(my_list)"
   ]
  },
  {
   "cell_type": "code",
   "execution_count": 192,
   "id": "18fc052c",
   "metadata": {},
   "outputs": [
    {
     "name": "stdout",
     "output_type": "stream",
     "text": [
      "(10, 20, 30, 40, 50)\n"
     ]
    }
   ],
   "source": [
    "#Convert a list to a tuple.\n",
    "my_list = [10, 20, 30, 40, 50]\n",
    "\n",
    "my_tuple=tuple(my_list)\n",
    "\n",
    "print(my_tuple)"
   ]
  },
  {
   "cell_type": "code",
   "execution_count": 199,
   "id": "4b871343",
   "metadata": {},
   "outputs": [
    {
     "name": "stdout",
     "output_type": "stream",
     "text": [
      "var 10\n",
      "var 20\n",
      "var 30\n"
     ]
    }
   ],
   "source": [
    "#Unpack the elements of a tuple into variables.\n",
    "my_tuple = (10, 20, 30)\n",
    "\n",
    "for x in my_tuple:\n",
    "    print(\"var\",x)"
   ]
  },
  {
   "cell_type": "code",
   "execution_count": 216,
   "id": "02fb6313",
   "metadata": {},
   "outputs": [
    {
     "name": "stdout",
     "output_type": "stream",
     "text": [
      "(2, 4, 6, 8, 10)\n"
     ]
    }
   ],
   "source": [
    "#Create a tuple of even numbers from 1 to 10.\n",
    "even_list = [x for x in range(2,11,2)]\n",
    "\n",
    "even_tuple=tuple(even_list)\n",
    "print(even_tuple)"
   ]
  },
  {
   "cell_type": "code",
   "execution_count": 219,
   "id": "cd9425e2",
   "metadata": {},
   "outputs": [
    {
     "name": "stdout",
     "output_type": "stream",
     "text": [
      "(1, 3, 5, 7, 9)\n"
     ]
    }
   ],
   "source": [
    "#Create a tuple of odd numbers from 1 to 10.\n",
    "odd_list=[x for x in range(1,11,2)]\n",
    "\n",
    "odd_tuple=tuple(odd_list)\n",
    "print(odd_tuple)"
   ]
  },
  {
   "cell_type": "code",
   "execution_count": 221,
   "id": "d2a0b49f",
   "metadata": {},
   "outputs": [
    {
     "name": "stdout",
     "output_type": "stream",
     "text": [
      "(1, 2, 3, 4, 5, 6)\n"
     ]
    }
   ],
   "source": [
    "# Concatenate two tuples\n",
    "tuple1 = (1, 2, 3)\n",
    "tuple2 = (4, 5, 6)\n",
    "\n",
    "concatenated= tuple1+tuple2\n",
    "\n",
    "print(concatenated)"
   ]
  },
  {
   "cell_type": "code",
   "execution_count": 222,
   "id": "b8475c37",
   "metadata": {},
   "outputs": [
    {
     "name": "stdout",
     "output_type": "stream",
     "text": [
      "(1, 2, 3, 1, 2, 3, 1, 2, 3)\n"
     ]
    }
   ],
   "source": [
    "#Repeat a tuple three times.\n",
    "tuple1 = (1, 2, 3)\n",
    "\n",
    "tuple3= tuple1 * 3\n",
    "print(tuple3)"
   ]
  },
  {
   "cell_type": "code",
   "execution_count": 223,
   "id": "fbd8b655",
   "metadata": {},
   "outputs": [
    {
     "name": "stdout",
     "output_type": "stream",
     "text": [
      "the tuple is not empty\n"
     ]
    }
   ],
   "source": [
    "#Check if a tuple is empty.\n",
    "empty_tuple=()\n",
    "tuple1 = (1, 2, 3)\n",
    "\n",
    "if not empty_tuple:\n",
    "    print(\"the tuple is not empty\")\n",
    "else :\n",
    "    print(\"the tuple is empty\")"
   ]
  },
  {
   "cell_type": "code",
   "execution_count": 224,
   "id": "dd3aaa52",
   "metadata": {},
   "outputs": [
    {
     "name": "stdout",
     "output_type": "stream",
     "text": [
      "Nested tuple: ((1, 2, 3), ('a', 'b', 'c'), (True, False))\n"
     ]
    }
   ],
   "source": [
    "#Create a nested tuple.\n",
    "nested_tuple = ((1, 2, 3), ('a', 'b', 'c'), (True, False))\n",
    "\n",
    "# Step 2: Print the nested tuple\n",
    "print(\"Nested tuple:\", nested_tuple)"
   ]
  },
  {
   "cell_type": "code",
   "execution_count": 226,
   "id": "23dbd92a",
   "metadata": {},
   "outputs": [
    {
     "name": "stdout",
     "output_type": "stream",
     "text": [
      "(1, 2, 3)\n"
     ]
    }
   ],
   "source": [
    "#Access the first element of a nested tuple.\n",
    "nested_tuple = ((1, 2, 3), ('a', 'b', 'c'), (True, False))\n",
    "\n",
    "print(nested_tuple[0])"
   ]
  },
  {
   "cell_type": "code",
   "execution_count": 227,
   "id": "cec07a94",
   "metadata": {},
   "outputs": [
    {
     "name": "stdout",
     "output_type": "stream",
     "text": [
      "7\n"
     ]
    }
   ],
   "source": [
    "#Create a tuple with a single element.\n",
    "single_element_tuple = (7)\n",
    "\n",
    "print(single_element_tuple)"
   ]
  },
  {
   "cell_type": "code",
   "execution_count": 228,
   "id": "28ecdb91",
   "metadata": {},
   "outputs": [
    {
     "name": "stdout",
     "output_type": "stream",
     "text": [
      "tuple1 == tuple2: False\n",
      "tuple1 != tuple2: True\n",
      "tuple1 < tuple2: True\n",
      "tuple1 <= tuple2: True\n",
      "tuple1 > tuple2: False\n",
      "tuple1 >= tuple2: False\n"
     ]
    }
   ],
   "source": [
    "#Compare two tuples\n",
    "tuple1 = (1, 2, 3)\n",
    "tuple2 = (1, 2, 4)\n",
    "\n",
    "\n",
    "print(\"tuple1 == tuple2:\", tuple1 == tuple2)  \n",
    "print(\"tuple1 != tuple2:\", tuple1 != tuple2)  \n",
    "print(\"tuple1 < tuple2:\", tuple1 < tuple2)    \n",
    "print(\"tuple1 <= tuple2:\", tuple1 <= tuple2)  \n",
    "print(\"tuple1 > tuple2:\", tuple1 > tuple2)    \n",
    "print(\"tuple1 >= tuple2:\", tuple1 >= tuple2)  "
   ]
  },
  {
   "cell_type": "code",
   "execution_count": 234,
   "id": "661a4ac0",
   "metadata": {},
   "outputs": [
    {
     "ename": "NameError",
     "evalue": "name 'my_tuple' is not defined",
     "output_type": "error",
     "traceback": [
      "\u001b[1;31m---------------------------------------------------------------------------\u001b[0m",
      "\u001b[1;31mNameError\u001b[0m                                 Traceback (most recent call last)",
      "Cell \u001b[1;32mIn[234], line 5\u001b[0m\n\u001b[0;32m      2\u001b[0m my_tuple \u001b[38;5;241m=\u001b[39m (\u001b[38;5;241m1\u001b[39m, \u001b[38;5;241m2\u001b[39m, \u001b[38;5;241m3\u001b[39m, \u001b[38;5;241m4\u001b[39m, \u001b[38;5;241m5\u001b[39m)\n\u001b[0;32m      4\u001b[0m \u001b[38;5;28;01mdel\u001b[39;00m(my_tuple)\n\u001b[1;32m----> 5\u001b[0m \u001b[38;5;28mprint\u001b[39m(\u001b[43mmy_tuple\u001b[49m)\n",
      "\u001b[1;31mNameError\u001b[0m: name 'my_tuple' is not defined"
     ]
    }
   ],
   "source": [
    "#Delete a tuple.\n",
    "my_tuple = (1, 2, 3, 4, 5)\n",
    "\n",
    "del(my_tuple)\n",
    "print(my_tuple)"
   ]
  },
  {
   "cell_type": "code",
   "execution_count": 237,
   "id": "b65bf487",
   "metadata": {},
   "outputs": [
    {
     "name": "stdout",
     "output_type": "stream",
     "text": [
      "(3, 4, 5, 6)\n"
     ]
    }
   ],
   "source": [
    "#Slice a tuple.\n",
    "my_tuple = (1, 2, 3, 4, 5, 6, 7, 8, 9, 10)\n",
    "\n",
    "my_tuple=my_tuple[2:6]\n",
    "print(my_tuple)"
   ]
  },
  {
   "cell_type": "code",
   "execution_count": 238,
   "id": "e1823e4e",
   "metadata": {},
   "outputs": [
    {
     "name": "stdout",
     "output_type": "stream",
     "text": [
      "10\n"
     ]
    }
   ],
   "source": [
    "#Find the maximum value in a tuple.\n",
    "my_tuple = (1, 2, 3, 4, 5, 6, 7, 8, 9, 10)\n",
    "\n",
    "my_tuple=max(my_tuple)\n",
    "\n",
    "print(my_tuple)"
   ]
  },
  {
   "cell_type": "code",
   "execution_count": 239,
   "id": "23eaaffa",
   "metadata": {},
   "outputs": [
    {
     "name": "stdout",
     "output_type": "stream",
     "text": [
      "1\n"
     ]
    }
   ],
   "source": [
    "#Find the minimum value in a tuple.\n",
    "my_tuple = (1, 2, 3, 4, 5, 6, 7, 8, 9, 10)\n",
    "\n",
    "my_tuple=min(my_tuple)\n",
    "\n",
    "print(my_tuple)"
   ]
  },
  {
   "cell_type": "code",
   "execution_count": 242,
   "id": "5e5c8588",
   "metadata": {},
   "outputs": [
    {
     "name": "stdout",
     "output_type": "stream",
     "text": [
      "('H', 'e', 'l', 'l', 'o', ',', ' ', 'W', 'o', 'r', 'l', 'd', '!')\n"
     ]
    }
   ],
   "source": [
    "# Convert a string to a tuple of characters.\n",
    "my_string = \"Hello, World!\"\n",
    "\n",
    "my_tuple=tuple(my_string)\n",
    "\n",
    "print(my_tuple)"
   ]
  },
  {
   "cell_type": "code",
   "execution_count": 245,
   "id": "0e4d51c7",
   "metadata": {},
   "outputs": [
    {
     "name": "stdout",
     "output_type": "stream",
     "text": [
      "Hello World!\n"
     ]
    }
   ],
   "source": [
    "#Convert a tuple of characters to a string\n",
    "tuple_of_characters = ('H', 'e', 'l', 'l', 'o', ' ', 'W', 'o', 'r', 'l', 'd', '!')\n",
    "\n",
    "# using the join method\n",
    "my_string=\"\".join(tuple_of_characters)\n",
    "\n",
    "print(my_string)\n"
   ]
  },
  {
   "cell_type": "code",
   "execution_count": 246,
   "id": "dbb12502",
   "metadata": {},
   "outputs": [
    {
     "name": "stdout",
     "output_type": "stream",
     "text": [
      "(1, 'hello', 3.14, True)\n"
     ]
    }
   ],
   "source": [
    "#Create a tuple from multiple data types.\n",
    "mixed_tuple = (1, \"hello\", 3.14, True)\n",
    "\n",
    "# Printing the tuple\n",
    "print(mixed_tuple)"
   ]
  },
  {
   "cell_type": "code",
   "execution_count": 248,
   "id": "342ac27a",
   "metadata": {},
   "outputs": [
    {
     "name": "stdout",
     "output_type": "stream",
     "text": [
      "two tuples are identical: True\n",
      "two tuples are identical: False\n"
     ]
    }
   ],
   "source": [
    "#Check if two tuples are identical.\n",
    "tuple1 = (1, 2, 3)\n",
    "tuple2 = (1, 2, 3)\n",
    "tuple3 = (4, 5, 6)\n",
    "\n",
    "same1 = tuple1==tuple2\n",
    "same2 = tuple1 == tuple3\n",
    "\n",
    "print(\"two tuples are identical:\",same1)\n",
    "print(\"two tuples are identical:\",same2)"
   ]
  },
  {
   "cell_type": "code",
   "execution_count": 250,
   "id": "1d4e17f2",
   "metadata": {},
   "outputs": [
    {
     "name": "stdout",
     "output_type": "stream",
     "text": [
      "[1, 2, 3, 5, 8]\n"
     ]
    }
   ],
   "source": [
    "#Sort the elements of a tuple.\n",
    "my_tuple = (5, 2, 8, 1, 3)\n",
    "\n",
    "my_tuple=sorted(my_tuple) # tuple do not have sort it have --sorted--\n",
    "\n",
    "print(my_tuple)"
   ]
  },
  {
   "cell_type": "code",
   "execution_count": 254,
   "id": "2563efa2",
   "metadata": {},
   "outputs": [
    {
     "name": "stdout",
     "output_type": "stream",
     "text": [
      "('(', '1', ',', ' ', '2', ',', ' ', '3', ',', ' ', '4', ',', ' ', '5', ')')\n"
     ]
    }
   ],
   "source": [
    "#Convert a tuple of integers to a tuple of strings.\n",
    "tuple_of_integers = (1, 2, 3, 4, 5)\n",
    "\n",
    "tuple_string= tuple(str(tuple_of_integers))\n",
    "print(tuple_string)"
   ]
  },
  {
   "cell_type": "code",
   "execution_count": 259,
   "id": "b1b3f998",
   "metadata": {},
   "outputs": [
    {
     "name": "stdout",
     "output_type": "stream",
     "text": [
      "('10', '20', '30', '40', '50')\n"
     ]
    }
   ],
   "source": [
    "#Convert a tuple of strings to a tuple of integers.\n",
    "tuple_of_strings = ('10', '20', '30', '40', '50')\n",
    "\n",
    "tuple_list= tuple(list(tuple_of_strings))\n",
    "\n",
    "print(tuple_list)"
   ]
  },
  {
   "cell_type": "code",
   "execution_count": 260,
   "id": "b9161291",
   "metadata": {},
   "outputs": [
    {
     "name": "stdout",
     "output_type": "stream",
     "text": [
      "(1, 2, 3, 4, 5, 6)\n"
     ]
    }
   ],
   "source": [
    "#Merge two tuples.\n",
    "tuple1 = (1, 2, 3)\n",
    "tuple2 = (4, 5, 6)\n",
    "\n",
    "merge_tuple= tuple1+tuple2\n",
    "\n",
    "print(merge_tuple)"
   ]
  },
  {
   "cell_type": "code",
   "execution_count": 261,
   "id": "41de0ab5",
   "metadata": {},
   "outputs": [
    {
     "name": "stdout",
     "output_type": "stream",
     "text": [
      "Flattened tuple: (1, 2, 3, 4, 5, 6, 7, 8)\n"
     ]
    }
   ],
   "source": [
    "#Flatten a nested tuple.\n",
    "def flatten_tuple(nested_tuple):\n",
    "    flattened = []\n",
    "    for item in nested_tuple:\n",
    "        if isinstance(item, tuple):\n",
    "            flattened.extend(flatten_tuple(item))\n",
    "        else:\n",
    "            flattened.append(item)\n",
    "    return flattened\n",
    "\n",
    "# Step 1: Create a nested tuple\n",
    "nested_tuple = ((1, 2), (3, 4, 5), (6, (7, 8)))\n",
    "\n",
    "# Step 2: Flatten the nested tuple\n",
    "flattened_tuple = tuple(flatten_tuple(nested_tuple))\n",
    "\n",
    "# Step 3: Print the flattened tuple\n",
    "print(\"Flattened tuple:\", flattened_tuple)"
   ]
  },
  {
   "cell_type": "code",
   "execution_count": 263,
   "id": "f2804794",
   "metadata": {},
   "outputs": [
    {
     "name": "stdout",
     "output_type": "stream",
     "text": [
      "Tuple of the first 5 prime numbers: (2, 3, 5, 7, 11)\n"
     ]
    }
   ],
   "source": [
    "#Create a tuple of the first 5 prime numbers.\n",
    "def is_prime(num):\n",
    "    if num <= 1:\n",
    "        return False\n",
    "    for i in range(2, int(num ** 0.5) + 1):\n",
    "        if num % i == 0:\n",
    "            return False\n",
    "    return True\n",
    "\n",
    "# Generate the first 5 prime numbers\n",
    "prime_numbers_list = [num for num in range(2, 100) if is_prime(num)][:5]\n",
    "\n",
    "# Convert the list to a tuple\n",
    "prime_numbers_tuple = tuple(prime_numbers_list)\n",
    "\n",
    "# Print the tuple of prime numbers\n",
    "print(\"Tuple of the first 5 prime numbers:\", prime_numbers_tuple)"
   ]
  },
  {
   "cell_type": "code",
   "execution_count": 264,
   "id": "faa3039d",
   "metadata": {},
   "outputs": [
    {
     "name": "stdout",
     "output_type": "stream",
     "text": [
      "palindrome_tuple is a palindrome: True\n",
      "non_palindrome_tuple is a palindrome: False\n"
     ]
    }
   ],
   "source": [
    "#Check if a tuple is a palindrome.\n",
    "def is_palindrome(tup):\n",
    "    return tup == tup[::-1]\n",
    "\n",
    "# Create tuples for testing\n",
    "palindrome_tuple = (1, 2, 3, 2, 1)\n",
    "non_palindrome_tuple = (1, 2, 3, 4, 5)\n",
    "\n",
    "# Check if the tuples are palindromes\n",
    "is_palindrome1 = is_palindrome(palindrome_tuple)\n",
    "is_palindrome2 = is_palindrome(non_palindrome_tuple)\n",
    "\n",
    "# Print the results\n",
    "print(\"palindrome_tuple is a palindrome:\", is_palindrome1)\n",
    "print(\"non_palindrome_tuple is a palindrome:\", is_palindrome2)"
   ]
  },
  {
   "cell_type": "code",
   "execution_count": 265,
   "id": "76befdc1",
   "metadata": {},
   "outputs": [
    {
     "name": "stdout",
     "output_type": "stream",
     "text": [
      "(1, 4, 9, 16, 25)\n"
     ]
    }
   ],
   "source": [
    "#Create a tuple of squares of numbers from 1 to 5.\n",
    "square_tuple=tuple(x**2 for x in range(1,6))\n",
    "\n",
    "print(square_tuple)"
   ]
  },
  {
   "cell_type": "code",
   "execution_count": 273,
   "id": "f6a77b03",
   "metadata": {},
   "outputs": [
    {
     "name": "stdout",
     "output_type": "stream",
     "text": [
      "1\n",
      "3\n",
      "5\n",
      "7\n",
      "9\n"
     ]
    }
   ],
   "source": [
    "#Filter out all even numbers from a tuple.\n",
    "original_tuple = (1, 2, 3, 4, 5, 6, 7, 8, 9, 10)\n",
    "\n",
    "for x in original_tuple:\n",
    "    \n",
    "    if x % 2 != 0:\n",
    "        print((x))"
   ]
  },
  {
   "cell_type": "code",
   "execution_count": 277,
   "id": "3bcb8cca",
   "metadata": {},
   "outputs": [
    {
     "name": "stdout",
     "output_type": "stream",
     "text": [
      "(2, 4, 6, 8, 10)\n"
     ]
    }
   ],
   "source": [
    "#Multiply all elements in a tuple by 2.\n",
    "original_tuple = (1, 2, 3, 4, 5)\n",
    "\n",
    "multiply = tuple(2*x for x in original_tuple)\n",
    "\n",
    "print(multiply)"
   ]
  },
  {
   "cell_type": "code",
   "execution_count": 278,
   "id": "ab98958d",
   "metadata": {},
   "outputs": [
    {
     "name": "stdout",
     "output_type": "stream",
     "text": [
      "(74, 60, 93, 48, 4, 93, 69, 87, 52, 50)\n"
     ]
    }
   ],
   "source": [
    "#Create a tuple of random numbers.\n",
    "import random\n",
    "\n",
    "random_tuple= tuple(random.randint(1,100) for i in range(10))\n",
    "\n",
    "print(random_tuple)"
   ]
  },
  {
   "cell_type": "code",
   "execution_count": 280,
   "id": "c80a8cdf",
   "metadata": {},
   "outputs": [
    {
     "name": "stdout",
     "output_type": "stream",
     "text": [
      "sorted_tuple is sorted: True\n",
      "unsorted_tuple is sorted: False\n"
     ]
    }
   ],
   "source": [
    "#Check if a tuple is sorted.\n",
    "def is_sorted(tup):\n",
    "    for i in range(len(tup) - 1):\n",
    "        if tup[i] > tup[i + 1]:\n",
    "            return False\n",
    "    return True\n",
    "\n",
    "# Create tuples for testing\n",
    "sorted_tuple = (1, 2, 3, 4, 5)\n",
    "unsorted_tuple = (5, 3, 1, 4, 2)\n",
    "\n",
    "# Check if the tuples are sorted\n",
    "is_sorted1 = is_sorted(sorted_tuple)\n",
    "is_sorted2 = is_sorted(unsorted_tuple)\n",
    "\n",
    "# Print the results\n",
    "print(\"sorted_tuple is sorted:\", is_sorted1)\n",
    "print(\"unsorted_tuple is sorted:\", is_sorted2)"
   ]
  },
  {
   "cell_type": "code",
   "execution_count": 281,
   "id": "a6353e5f",
   "metadata": {},
   "outputs": [
    {
     "name": "stdout",
     "output_type": "stream",
     "text": [
      "(3, 4, 5, 1, 2)\n"
     ]
    }
   ],
   "source": [
    "#Rotate a tuple to the left by n positions.\n",
    "def rotate_tuple_left(tup, n):\n",
    "    n = n % len(tup)  # Ensure n is within the range of tuple length\n",
    "    rotated_tuple = tup[n:] + tup[:n]  # Rotate the tuple\n",
    "    return rotated_tuple\n",
    "\n",
    "# Example tuple\n",
    "my_tuple = (1, 2, 3, 4, 5)\n",
    "n_positions = 2\n",
    "result = rotate_tuple_left(my_tuple, n_positions)\n",
    "print(result)"
   ]
  },
  {
   "cell_type": "code",
   "execution_count": 282,
   "id": "282caad1",
   "metadata": {},
   "outputs": [
    {
     "name": "stdout",
     "output_type": "stream",
     "text": [
      "(4, 5, 1, 2, 3)\n"
     ]
    }
   ],
   "source": [
    "#Rotate a tuple to the right by n positions.\n",
    "def rotate_tuple_right(tup, n):\n",
    "    n = n % len(tup)  # Ensure n is within the range of tuple length\n",
    "    rotated_tuple = tup[-n:] + tup[:-n]  # Rotate the tuple\n",
    "    return rotated_tuple\n",
    "\n",
    "# Example tuple\n",
    "my_tuple = (1, 2, 3, 4, 5)\n",
    "n_positions = 2\n",
    "result = rotate_tuple_right(my_tuple, n_positions)\n",
    "print(result)"
   ]
  },
  {
   "cell_type": "code",
   "execution_count": 283,
   "id": "7a588a1e",
   "metadata": {},
   "outputs": [
    {
     "name": "stdout",
     "output_type": "stream",
     "text": [
      "(0, 1, 1, 2, 3)\n"
     ]
    }
   ],
   "source": [
    "#Create a tuple of the first 5 Fibonacci numbers.\n",
    "def generate_fibonacci(n):\n",
    "    fibonacci = [0, 1]  # Initialize the list with the first two Fibonacci numbers\n",
    "    while len(fibonacci) < n:  # Continue generating Fibonacci numbers until the list has n elements\n",
    "        next_number = fibonacci[-1] + fibonacci[-2]  # Calculate the next Fibonacci number\n",
    "        fibonacci.append(next_number)  # Add the next Fibonacci number to the list\n",
    "    return tuple(fibonacci)  # Convert the list to a tuple and return it\n",
    "\n",
    "# Call the generate_fibonacci function to create a tuple of the first 5 Fibonacci numbers\n",
    "fibonacci_tuple = generate_fibonacci(5)\n",
    "\n",
    "# Print the resulting tuple\n",
    "print(fibonacci_tuple)"
   ]
  },
  {
   "cell_type": "code",
   "execution_count": 284,
   "id": "f8549425",
   "metadata": {},
   "outputs": [
    {
     "name": "stdout",
     "output_type": "stream",
     "text": [
      "Enter elements separated by commas: 1,2,3,4,5,6\n",
      "User input tuple: ('1', '2', '3', '4', '5', '6')\n"
     ]
    }
   ],
   "source": [
    "#Create a tuple from user input.\n",
    "input_str = input(\"Enter elements separated by commas: \")\n",
    "\n",
    "# Splitting the input string into a list of strings\n",
    "input_list = input_str.split(',')\n",
    "\n",
    "# Converting the list of strings to a tuple\n",
    "user_tuple = tuple(input_list)\n",
    "\n",
    "# Printing the created tuple\n",
    "print(\"User input tuple:\", user_tuple)"
   ]
  },
  {
   "cell_type": "code",
   "execution_count": 285,
   "id": "9545c628",
   "metadata": {},
   "outputs": [
    {
     "name": "stdout",
     "output_type": "stream",
     "text": [
      "Swapped tuple: (1, 4, 3, 2, 5)\n"
     ]
    }
   ],
   "source": [
    "#wap two elements in a tuple.\n",
    "my_tuple = (1, 2, 3, 4, 5)\n",
    "\n",
    "# Swap elements at indices 1 and 3\n",
    "index1 = 1\n",
    "index2 = 3\n",
    "swapped_tuple = tuple(\n",
    "    my_tuple[i] if i not in (index1, index2) else\n",
    "    my_tuple[index2] if i == index1 else\n",
    "    my_tuple[index1]\n",
    "    for i in range(len(my_tuple))\n",
    ")\n",
    "\n",
    "# Print the swapped tuple\n",
    "print(\"Swapped tuple:\", swapped_tuple)"
   ]
  },
  {
   "cell_type": "code",
   "execution_count": 286,
   "id": "879b3a4a",
   "metadata": {},
   "outputs": [
    {
     "name": "stdout",
     "output_type": "stream",
     "text": [
      "Reversed tuple: (5, 4, 3, 2, 1)\n"
     ]
    }
   ],
   "source": [
    "#Reverse the elements of a tuple.\n",
    "my_tuple = (1, 2, 3, 4, 5)\n",
    "\n",
    "# Reverse the elements using slicing\n",
    "reversed_tuple = my_tuple[::-1]\n",
    "\n",
    "# Print the reversed tuple\n",
    "print(\"Reversed tuple:\", reversed_tuple)"
   ]
  },
  {
   "cell_type": "code",
   "execution_count": 287,
   "id": "bf0304cc",
   "metadata": {},
   "outputs": [
    {
     "name": "stdout",
     "output_type": "stream",
     "text": [
      "Tuple of the first 5 powers of 2: (1, 2, 4, 8, 16)\n"
     ]
    }
   ],
   "source": [
    "#Create a tuple of the first n powers of 2.\n",
    "n = 5\n",
    "\n",
    "# Create a tuple of the first n powers of 2 using a list comprehension\n",
    "powers_of_2_tuple = tuple(2 ** i for i in range(n))\n",
    "\n",
    "# Print the tuple of powers of 2\n",
    "print(\"Tuple of the first\", n, \"powers of 2:\", powers_of_2_tuple)"
   ]
  },
  {
   "cell_type": "code",
   "execution_count": 288,
   "id": "3ea72eea",
   "metadata": {},
   "outputs": [
    {
     "name": "stdout",
     "output_type": "stream",
     "text": [
      "Longest string: watermelon\n"
     ]
    }
   ],
   "source": [
    "#Find the longest string in a tuple of strings\n",
    "string_tuple = (\"apple\", \"banana\", \"grape\", \"kiwi\", \"watermelon\")\n",
    "\n",
    "# Find the longest string in the tuple\n",
    "longest_string = max(string_tuple, key=len)\n",
    "\n",
    "# Print the longest string\n",
    "print(\"Longest string:\", longest_string)"
   ]
  },
  {
   "cell_type": "code",
   "execution_count": 289,
   "id": "8f4341e9",
   "metadata": {},
   "outputs": [
    {
     "name": "stdout",
     "output_type": "stream",
     "text": [
      "shortest string: kiwi\n"
     ]
    }
   ],
   "source": [
    "string_tuple = (\"apple\", \"banana\", \"grape\", \"kiwi\", \"watermelon\")\n",
    "\n",
    "# Find the longest string in the tuple\n",
    "shortest_string = min(string_tuple, key=len)\n",
    "\n",
    "# Print the longest string\n",
    "print(\"shortest string:\", shortest_string)"
   ]
  },
  {
   "cell_type": "code",
   "execution_count": 290,
   "id": "866b779d",
   "metadata": {},
   "outputs": [
    {
     "name": "stdout",
     "output_type": "stream",
     "text": [
      "Tuple of the first 5 triangular numbers: (1, 3, 6, 10, 15)\n"
     ]
    }
   ],
   "source": [
    "#Create a tuple of the first n triangular numbers.\n",
    "n = 5\n",
    "\n",
    "# Create a tuple of the first n triangular numbers using a list comprehension\n",
    "triangular_numbers_tuple = tuple((i * (i + 1)) // 2 for i in range(1, n + 1))\n",
    "\n",
    "# Print the tuple of triangular numbers\n",
    "print(\"Tuple of the first\", n, \"triangular numbers:\", triangular_numbers_tuple)"
   ]
  },
  {
   "cell_type": "code",
   "execution_count": 291,
   "id": "27c5dc1e",
   "metadata": {},
   "outputs": [
    {
     "name": "stdout",
     "output_type": "stream",
     "text": [
      "Main tuple contains subsequence tuple: True\n"
     ]
    }
   ],
   "source": [
    "#Check if a tuple contains another tuple as a subsequence.\n",
    "# Function to check if a tuple contains another tuple as a subsequence\n",
    "def contains_subsequence(main_tuple, sub_tuple):\n",
    "    sub_length = len(sub_tuple)\n",
    "    for i in range(len(main_tuple) - sub_length + 1):\n",
    "        if main_tuple[i:i+sub_length] == sub_tuple:\n",
    "            return True\n",
    "    return False\n",
    "\n",
    "# Main tuple\n",
    "main_tuple = (1, 2, 3, 4, 5, 6, 7, 8, 9)\n",
    "\n",
    "# Subsequence tuple\n",
    "sub_tuple = (3, 4, 5)\n",
    "\n",
    "# Check if the main tuple contains the subsequence tuple\n",
    "contains_subseq = contains_subsequence(main_tuple, sub_tuple)\n",
    "\n",
    "# Print the result\n",
    "print(\"Main tuple contains subsequence tuple:\", contains_subseq)"
   ]
  },
  {
   "cell_type": "code",
   "execution_count": 292,
   "id": "fc3f498b",
   "metadata": {},
   "outputs": [
    {
     "name": "stdout",
     "output_type": "stream",
     "text": [
      "Tuple of alternating 1s and 0s: (0, 1, 0, 1, 0, 1, 0, 1, 0, 1)\n"
     ]
    }
   ],
   "source": [
    "#Create a tuple of alternating 1s and 0s of length n.\n",
    "# Define the value of n\n",
    "n = 10\n",
    "\n",
    "# Create a tuple of alternating 1s and 0s using a list comprehension\n",
    "alternating_tuple = tuple(i % 2 for i in range(n))\n",
    "\n",
    "# Print the tuple of alternating 1s and 0s\n",
    "print(\"Tuple of alternating 1s and 0s:\", alternating_tuple)"
   ]
  },
  {
   "cell_type": "markdown",
   "id": "6176d049",
   "metadata": {},
   "source": [
    "## Set based problems:"
   ]
  },
  {
   "cell_type": "code",
   "execution_count": 3,
   "id": "98ca968d",
   "metadata": {},
   "outputs": [
    {
     "name": "stdout",
     "output_type": "stream",
     "text": [
      "{1, 2, 3, 4, 5}\n",
      "<class 'set'>\n"
     ]
    }
   ],
   "source": [
    "#Create a set with integers from 1 to 5\n",
    "my_set={1,2,3,4,5,}\n",
    "print(my_set)\n",
    "print(type(my_set))"
   ]
  },
  {
   "cell_type": "code",
   "execution_count": 5,
   "id": "442e7fa7",
   "metadata": {},
   "outputs": [
    {
     "name": "stdout",
     "output_type": "stream",
     "text": [
      "{1, 2, 3, 4, 5, 6}\n"
     ]
    }
   ],
   "source": [
    "#dd an element to a set\n",
    "\n",
    "my_set={1,2,3,4,5}\n",
    "\n",
    "my_set.add(6)\n",
    "print(my_set)"
   ]
  },
  {
   "cell_type": "code",
   "execution_count": 6,
   "id": "7d75dcd8",
   "metadata": {},
   "outputs": [
    {
     "name": "stdout",
     "output_type": "stream",
     "text": [
      "{1, 2, 3, 4, 6}\n"
     ]
    }
   ],
   "source": [
    "#Remove an element from a set.\n",
    "\n",
    "my_set={1,2,3,4,5,6}\n",
    "\n",
    "my_set.remove(5)\n",
    "\n",
    "print(my_set)"
   ]
  },
  {
   "cell_type": "code",
   "execution_count": 7,
   "id": "1d98848f",
   "metadata": {},
   "outputs": [
    {
     "name": "stdout",
     "output_type": "stream",
     "text": [
      "the element exist in set\n"
     ]
    }
   ],
   "source": [
    "#Check if an element exists in a set.\n",
    "my_set={1,2,3,4,5,6}\n",
    "\n",
    "element= 5\n",
    "\n",
    "if element in my_set:\n",
    "    print(\"the element exist in set\")\n",
    "else:\n",
    "    print(\"the element does not exist in set\")"
   ]
  },
  {
   "cell_type": "code",
   "execution_count": 8,
   "id": "dbc4acf6",
   "metadata": {},
   "outputs": [
    {
     "name": "stdout",
     "output_type": "stream",
     "text": [
      "the length of set is: 9\n"
     ]
    }
   ],
   "source": [
    "#Find the length of a set without using the len() function\n",
    "my_set={1,2,3,4,5,6,7,8,9}\n",
    "\n",
    "count=0\n",
    "\n",
    "for i in my_set:\n",
    "    count+=1\n",
    "    \n",
    "print(\"the length of set is:\",count)"
   ]
  },
  {
   "cell_type": "code",
   "execution_count": 9,
   "id": "743dd8eb",
   "metadata": {},
   "outputs": [
    {
     "name": "stdout",
     "output_type": "stream",
     "text": [
      "set()\n"
     ]
    }
   ],
   "source": [
    "#Clear all elements from a set.\n",
    "my_set={1,2,3,4,5,6,7,8,9}\n",
    "\n",
    "my_set.clear()\n",
    "\n",
    "print(my_set)"
   ]
  },
  {
   "cell_type": "code",
   "execution_count": 16,
   "id": "3db07aee",
   "metadata": {},
   "outputs": [
    {
     "name": "stdout",
     "output_type": "stream",
     "text": [
      "{0, 2, 4, 6, 8, 10}\n"
     ]
    }
   ],
   "source": [
    "#Create a set of even numbers from 1 to 10\n",
    "even_number_set=set()\n",
    "\n",
    "for i in range(0,11):\n",
    "    if i % 2 ==0 :\n",
    "        even_number_set.add(i)\n",
    "\n",
    "print(even_number_set)"
   ]
  },
  {
   "cell_type": "code",
   "execution_count": 17,
   "id": "fda27efa",
   "metadata": {},
   "outputs": [
    {
     "name": "stdout",
     "output_type": "stream",
     "text": [
      "{1, 3, 5, 7, 9}\n"
     ]
    }
   ],
   "source": [
    "#Create a set of odd numbers from 1 to 10\n",
    "odd_number_set=set()\n",
    "\n",
    "for i in range(1,11):\n",
    "    if i % 2 !=0:\n",
    "        odd_number_set.add(i)\n",
    "print(odd_number_set)"
   ]
  },
  {
   "cell_type": "code",
   "execution_count": 21,
   "id": "8419e43f",
   "metadata": {},
   "outputs": [
    {
     "name": "stdout",
     "output_type": "stream",
     "text": [
      "{1, 2, 3, 4, 5, 6, 7, 8}\n"
     ]
    }
   ],
   "source": [
    "#Find the union of two sets\n",
    "set1 = {1, 2, 3, 4, 5}\n",
    "set2 = {4, 5, 6, 7, 8}\n",
    "\n",
    "print(set1.union(set2)) # using the union keywords"
   ]
  },
  {
   "cell_type": "code",
   "execution_count": 23,
   "id": "115214e9",
   "metadata": {},
   "outputs": [
    {
     "name": "stdout",
     "output_type": "stream",
     "text": [
      "{3, 4, 5}\n"
     ]
    }
   ],
   "source": [
    "#Find the intersection of two sets\n",
    "set1 = {1, 2, 3, 4, 5}\n",
    "set2 = {3, 4, 5, 6, 7}\n",
    "\n",
    "intersect = set1.intersection(set2)\n",
    "\n",
    "print(intersect)"
   ]
  },
  {
   "cell_type": "code",
   "execution_count": 24,
   "id": "1e40c808",
   "metadata": {},
   "outputs": [
    {
     "name": "stdout",
     "output_type": "stream",
     "text": [
      "{1, 2}\n"
     ]
    }
   ],
   "source": [
    "#Find the difference between two sets.\n",
    "set1 = {1, 2, 3, 4, 5}\n",
    "set2 = {3, 4, 5, 6, 7}\n",
    "\n",
    "difference = set1.difference(set2)\n",
    "\n",
    "print(difference)"
   ]
  },
  {
   "cell_type": "code",
   "execution_count": 25,
   "id": "de36a044",
   "metadata": {},
   "outputs": [
    {
     "name": "stdout",
     "output_type": "stream",
     "text": [
      "True\n"
     ]
    }
   ],
   "source": [
    "#Check if a set is a subset of another set.\n",
    "set1 = {1, 2, 3}\n",
    "set2 = {1, 2, 3, 4, 5}\n",
    "\n",
    "subset= set1.issubset(set2)\n",
    "\n",
    "print(subset)"
   ]
  },
  {
   "cell_type": "code",
   "execution_count": 27,
   "id": "5f090a2e",
   "metadata": {},
   "outputs": [
    {
     "name": "stdout",
     "output_type": "stream",
     "text": [
      "True\n"
     ]
    }
   ],
   "source": [
    "#Check if a set is a superset of another set.\n",
    "set1 = {1, 2, 3}\n",
    "set2 = {1, 2, 3, 4, 5}\n",
    "\n",
    "superset= set2.issuperset(set1)\n",
    "\n",
    "print(superset)"
   ]
  },
  {
   "cell_type": "code",
   "execution_count": 29,
   "id": "a1b0a69e",
   "metadata": {},
   "outputs": [
    {
     "name": "stdout",
     "output_type": "stream",
     "text": [
      "{1, 2, 3, 4, 5}\n"
     ]
    }
   ],
   "source": [
    "#Create a set from a list\n",
    "my_list = [2, 4, 1, 4, 3, 2, 5]\n",
    "\n",
    "my_set= set(my_list )\n",
    "\n",
    "print(my_set)"
   ]
  },
  {
   "cell_type": "code",
   "execution_count": 31,
   "id": "26d50af7",
   "metadata": {},
   "outputs": [
    {
     "name": "stdout",
     "output_type": "stream",
     "text": [
      "[1, 2, 3, 4, 5, 6, 9]\n"
     ]
    }
   ],
   "source": [
    "#Convert a set to a list.\n",
    "my_set = {3, 1, 4, 1, 5, 9, 2, 6, 5}\n",
    "\n",
    "my_list= list(my_set)\n",
    "\n",
    "print(my_list)"
   ]
  },
  {
   "cell_type": "code",
   "execution_count": 33,
   "id": "a4f8dc41",
   "metadata": {},
   "outputs": [
    {
     "name": "stdout",
     "output_type": "stream",
     "text": [
      "{1, 2, 4, 5}\n"
     ]
    }
   ],
   "source": [
    "#Remove a random element from a set.\n",
    "import random\n",
    "my_set = {1, 2, 3, 4, 5}\n",
    "\n",
    "random_element = random.choice(list(my_set))\n",
    "\n",
    "my_set.remove(random_element)\n",
    "\n",
    "print(my_set)"
   ]
  },
  {
   "cell_type": "code",
   "execution_count": 35,
   "id": "032b533e",
   "metadata": {},
   "outputs": [
    {
     "name": "stdout",
     "output_type": "stream",
     "text": [
      "{2, 3, 4, 5}\n"
     ]
    }
   ],
   "source": [
    "#Pop an element from a set.\n",
    "\n",
    "my_set = {1, 2, 3, 4, 5}\n",
    "\n",
    "my_set.pop()\n",
    "\n",
    "print(my_set)"
   ]
  },
  {
   "cell_type": "code",
   "execution_count": 3,
   "id": "eb63318f",
   "metadata": {},
   "outputs": [
    {
     "name": "stdout",
     "output_type": "stream",
     "text": [
      "the sets has no common element\n"
     ]
    }
   ],
   "source": [
    "#Check if two sets have no elements in common.\n",
    "set1 = {1, 2, 3, 4}\n",
    "set2 = {5, 6, 7, 8}\n",
    "\n",
    "common_element= set1.intersection(set2)\n",
    "\n",
    "if not common_element :\n",
    "    print(\"the sets has no common element\")\n",
    "else:\n",
    "    print(\"the set has a common element\")"
   ]
  },
  {
   "cell_type": "code",
   "execution_count": 4,
   "id": "305bddfc",
   "metadata": {},
   "outputs": [
    {
     "name": "stdout",
     "output_type": "stream",
     "text": [
      "Symmetric Difference: {1, 2, 3, 6, 7, 8}\n"
     ]
    }
   ],
   "source": [
    "#Find the symmetric difference between two sets.\n",
    "set1 = {1, 2, 3, 4, 5}\n",
    "set2 = {4, 5, 6, 7, 8}\n",
    "\n",
    "# Calculate the symmetric difference using the {{^}} operator\n",
    "symmetric_difference = set1 ^ set2\n",
    "\n",
    "# Print the symmetric difference\n",
    "print(\"Symmetric Difference:\", symmetric_difference)"
   ]
  },
  {
   "cell_type": "code",
   "execution_count": 6,
   "id": "b0a97464",
   "metadata": {},
   "outputs": [
    {
     "name": "stdout",
     "output_type": "stream",
     "text": [
      "{0, 1, 2, 3, 4, 5, 6, 7, 8, 9}\n"
     ]
    }
   ],
   "source": [
    "#Update a set with elements from another set.\n",
    "set1= {1,2,3,4,5,6}\n",
    "set2= {7,8,9,0}\n",
    "\n",
    "set1.update(set2)\n",
    "print(set1)"
   ]
  },
  {
   "cell_type": "code",
   "execution_count": 7,
   "id": "b1212e9e",
   "metadata": {},
   "outputs": [
    {
     "name": "stdout",
     "output_type": "stream",
     "text": [
      "Set of the first 5 prime numbers: {2, 3, 5, 7, 11}\n"
     ]
    }
   ],
   "source": [
    "#Create a set of the first 5 prime numbers.\n",
    "def is_prime(num):\n",
    "    if num <= 1:\n",
    "        return False\n",
    "    for i in range(2, int(num ** 0.5) + 1):\n",
    "        if num % i == 0:\n",
    "            return False\n",
    "    return True\n",
    "\n",
    "# Create an empty set to store the prime numbers\n",
    "prime_set = set()\n",
    "\n",
    "# Initialize the number to start checking for primes\n",
    "num = 2\n",
    "\n",
    "# Loop until we have found the first 5 prime numbers\n",
    "while len(prime_set) < 5:\n",
    "    # Check if the current number is prime using the is_prime function\n",
    "    if is_prime(num):\n",
    "        # If the number is prime, add it to the prime_set\n",
    "        prime_set.add(num)\n",
    "\n",
    "    # Move on to the next number for the next iteration\n",
    "    num += 1\n",
    "\n",
    "# Print the set of prime numbers\n",
    "print(\"Set of the first 5 prime numbers:\", prime_set)"
   ]
  },
  {
   "cell_type": "code",
   "execution_count": 10,
   "id": "a26b9d68",
   "metadata": {},
   "outputs": [
    {
     "name": "stdout",
     "output_type": "stream",
     "text": [
      "both set are identical\n"
     ]
    }
   ],
   "source": [
    "#Check if two sets are identical.\n",
    "set1 = {1, 2, 3, 4, 5}\n",
    "set2 = {3, 1, 5, 2, 4}\n",
    "\n",
    "\n",
    "if set1 ==set2:\n",
    "    print(\"both set are identical\")\n",
    "else:\n",
    "    print(\"both set are not identical\")\n",
    "    "
   ]
  },
  {
   "cell_type": "code",
   "execution_count": 13,
   "id": "f3e836f3",
   "metadata": {},
   "outputs": [
    {
     "name": "stdout",
     "output_type": "stream",
     "text": [
      "frozenset({1, 2, 3, 4, 5})\n"
     ]
    }
   ],
   "source": [
    "#Create a frozen set\n",
    "elements = [1, 2, 3, 4, 5]\n",
    "\n",
    "frozen_set= frozenset(elements) # frozen set is given by using the --frozenset-- keyword\n",
    "\n",
    "print(frozen_set)"
   ]
  },
  {
   "cell_type": "code",
   "execution_count": 16,
   "id": "95569553",
   "metadata": {},
   "outputs": [
    {
     "name": "stdout",
     "output_type": "stream",
     "text": [
      "True\n"
     ]
    }
   ],
   "source": [
    "#Check if a set is disjoint with another set.\n",
    "set1 = {1, 2, 3, 4}\n",
    "set2 = {5, 6, 7, 8}\n",
    "\n",
    "disjoin= set1.isdisjoint(set2) # check by using --isdisjoint-- keyword\n",
    "\n",
    "print(disjoin)"
   ]
  },
  {
   "cell_type": "code",
   "execution_count": 18,
   "id": "66f102e8",
   "metadata": {},
   "outputs": [
    {
     "name": "stdout",
     "output_type": "stream",
     "text": [
      "{1, 4, 9, 16, 25}\n"
     ]
    }
   ],
   "source": [
    "#Create a set of squares of numbers from 1 to 5.\n",
    "square_set=set()\n",
    "\n",
    "for n in range(1,6):\n",
    "    square= n ** 2 \n",
    "    \n",
    "    square_set.add(square)\n",
    "    \n",
    "print(square_set)"
   ]
  },
  {
   "cell_type": "code",
   "execution_count": 21,
   "id": "bbba3b97",
   "metadata": {},
   "outputs": [
    {
     "name": "stdout",
     "output_type": "stream",
     "text": [
      "{2, 4}\n"
     ]
    }
   ],
   "source": [
    "#Filter out all even numbers from a set.\n",
    "original_set = {1, 2, 3, 4, 5}\n",
    "\n",
    "even_numbers_set = set()\n",
    "\n",
    "for i in original_set:\n",
    "    if i % 2 ==0:\n",
    "        \n",
    "        even_numbers_set.add(i)\n",
    "        \n",
    "print(even_numbers_set)"
   ]
  },
  {
   "cell_type": "code",
   "execution_count": 23,
   "id": "c0bb884c",
   "metadata": {},
   "outputs": [
    {
     "name": "stdout",
     "output_type": "stream",
     "text": [
      "{2, 4, 6, 8, 10}\n"
     ]
    }
   ],
   "source": [
    "#Multiply all elements in a set by 2.\n",
    "original_set = {1, 2, 3, 4, 5}\n",
    "\n",
    "multiply_set=set()\n",
    "\n",
    "for i in original_set:\n",
    "    x =i *2\n",
    "    \n",
    "    multiply_set.add(x)\n",
    "    \n",
    "print(multiply_set)"
   ]
  },
  {
   "cell_type": "code",
   "execution_count": 26,
   "id": "b1fdc910",
   "metadata": {},
   "outputs": [
    {
     "name": "stdout",
     "output_type": "stream",
     "text": [
      "{99, 3, 23, 94, 63}\n"
     ]
    }
   ],
   "source": [
    "#Create a set of random numbers.\n",
    "import random\n",
    "\n",
    "random_range=5\n",
    "\n",
    "random_set=set()\n",
    "\n",
    "for i in range (random_range):\n",
    "    num= random.randint(1,100)\n",
    "    \n",
    "    random_set.add(num)\n",
    "\n",
    "print(random_set)"
   ]
  },
  {
   "cell_type": "code",
   "execution_count": 27,
   "id": "9bd1fd5a",
   "metadata": {},
   "outputs": [
    {
     "name": "stdout",
     "output_type": "stream",
     "text": [
      "the set is empty\n"
     ]
    }
   ],
   "source": [
    "#Check if a set is empty.\n",
    "\n",
    "myset=set()\n",
    "\n",
    "if not myset:\n",
    "    print(\"the set is empty\")\n",
    "else:\n",
    "    print(\"the set is not empty\")"
   ]
  },
  {
   "cell_type": "code",
   "execution_count": 32,
   "id": "bb8ac5e2",
   "metadata": {},
   "outputs": [
    {
     "name": "stdout",
     "output_type": "stream",
     "text": [
      "{frozenset({1, 2, 3, 4, 5}), frozenset({0, 6, 7, 8, 9})}\n"
     ]
    }
   ],
   "source": [
    "#Create a nested set (hint: use frozenset).\n",
    "set1={1,2,3,4,5}\n",
    "set2={6,7,8,9,0}\n",
    "\n",
    "frozen1= frozenset(set1)\n",
    "frozen2= frozenset(set2)\n",
    "\n",
    "nested_set={frozen1,frozen2}\n",
    "\n",
    "print(nested_set)"
   ]
  },
  {
   "cell_type": "code",
   "execution_count": 33,
   "id": "e5b5ae0b",
   "metadata": {},
   "outputs": [
    {
     "name": "stdout",
     "output_type": "stream",
     "text": [
      "{1, 2, 4, 5}\n"
     ]
    }
   ],
   "source": [
    "#Remove an element from a set using the discard method.\n",
    "my_set = {1, 2, 3, 4, 5}\n",
    "\n",
    "my_set.discard(3)\n",
    "\n",
    "print(my_set)"
   ]
  },
  {
   "cell_type": "code",
   "execution_count": 34,
   "id": "91a46f86",
   "metadata": {},
   "outputs": [
    {
     "name": "stdout",
     "output_type": "stream",
     "text": [
      "Set 1: {1, 2, 3, 4, 5}\n",
      "Set 2: {4, 5, 6, 7, 8}\n",
      "Is set1 a subset of set2? False\n",
      "Is set2 a subset of set1? False\n",
      "Intersection: {4, 5}\n",
      "Union: {1, 2, 3, 4, 5, 6, 7, 8}\n",
      "Elements in set1 but not in set2: {1, 2, 3}\n",
      "Elements in set2 but not in set1: {8, 6, 7}\n"
     ]
    }
   ],
   "source": [
    "#Compare two sets.\n",
    "set1 = {1, 2, 3, 4, 5}\n",
    "set2 = {4, 5, 6, 7, 8}\n",
    "\n",
    "is_subset = set1.issubset(set2)\n",
    "\n",
    "# Check if set2 is a subset of set1\n",
    "is_superset = set1.issuperset(set2)\n",
    "\n",
    "# Find the intersection of the sets\n",
    "intersection = set1.intersection(set2)\n",
    "\n",
    "# Find the union of the sets\n",
    "union = set1.union(set2)\n",
    "\n",
    "# Find the elements that are in set1 but not in set2\n",
    "difference1 = set1.difference(set2)\n",
    "\n",
    "# Find the elements that are in set2 but not in set1\n",
    "difference2 = set2.difference(set1)\n",
    "\n",
    "# Step 3: Print the results\n",
    "print(\"Set 1:\", set1)\n",
    "print(\"Set 2:\", set2)\n",
    "print(\"Is set1 a subset of set2?\", is_subset)\n",
    "print(\"Is set2 a subset of set1?\", is_superset)\n",
    "print(\"Intersection:\", intersection)\n",
    "print(\"Union:\", union)\n",
    "print(\"Elements in set1 but not in set2:\", difference1)\n",
    "print(\"Elements in set2 but not in set1:\", difference2)"
   ]
  },
  {
   "cell_type": "code",
   "execution_count": 35,
   "id": "8b215582",
   "metadata": {},
   "outputs": [
    {
     "name": "stdout",
     "output_type": "stream",
     "text": [
      "{'h', ' ', 'w', 'r', 'o', 'l', 'd', 'e'}\n"
     ]
    }
   ],
   "source": [
    "#Create a set from a string.\n",
    "str=\"hello world\"\n",
    "\n",
    "myset=set(str)\n",
    "\n",
    "print(myset)"
   ]
  },
  {
   "cell_type": "code",
   "execution_count": 42,
   "id": "8cb4725e",
   "metadata": {},
   "outputs": [
    {
     "name": "stdout",
     "output_type": "stream",
     "text": [
      "{456, 123, 789}\n"
     ]
    }
   ],
   "source": [
    "#Convert a set of strings to a set of integers.\n",
    "string_set = {\"123\", \"456\", \"789\"}\n",
    "\n",
    "integer_set=set()\n",
    "\n",
    "for i in string_set :\n",
    "    \n",
    "    integer= int(i)\n",
    "    \n",
    "    integer_set.add(integer)\n",
    "    \n",
    "print(integer_set)"
   ]
  },
  {
   "cell_type": "code",
   "execution_count": 46,
   "id": "8b85ed39",
   "metadata": {},
   "outputs": [
    {
     "ename": "TypeError",
     "evalue": "'str' object is not callable",
     "output_type": "error",
     "traceback": [
      "\u001b[1;31m---------------------------------------------------------------------------\u001b[0m",
      "\u001b[1;31mTypeError\u001b[0m                                 Traceback (most recent call last)",
      "Cell \u001b[1;32mIn[46], line 8\u001b[0m\n\u001b[0;32m      4\u001b[0m string_set\u001b[38;5;241m=\u001b[39m\u001b[38;5;28mset\u001b[39m()\n\u001b[0;32m      6\u001b[0m \u001b[38;5;28;01mfor\u001b[39;00m num \u001b[38;5;129;01min\u001b[39;00m integers_set:\n\u001b[1;32m----> 8\u001b[0m     int_value\u001b[38;5;241m=\u001b[39m \u001b[38;5;28;43mstr\u001b[39;49m\u001b[43m(\u001b[49m\u001b[43mnum\u001b[49m\u001b[43m)\u001b[49m\n\u001b[0;32m     10\u001b[0m     string_set\u001b[38;5;241m.\u001b[39madd(int_value)\n\u001b[0;32m     12\u001b[0m \u001b[38;5;28mprint\u001b[39m(string_set)\n",
      "\u001b[1;31mTypeError\u001b[0m: 'str' object is not callable"
     ]
    }
   ],
   "source": [
    "#convert a set of integers to a set of strings.\n",
    "integers_set = {1, 2, 3, 4, 5}\n",
    "\n",
    "string_set=set()\n",
    "\n",
    "for num in integers_set:\n",
    "    \n",
    "    int_value= str(num)\n",
    "    \n",
    "    string_set.add(int_value)\n",
    "    \n",
    "print(string_set)"
   ]
  },
  {
   "cell_type": "code",
   "execution_count": 47,
   "id": "e859d43b",
   "metadata": {},
   "outputs": [
    {
     "name": "stdout",
     "output_type": "stream",
     "text": [
      "{1, 2, 4, 5}\n"
     ]
    }
   ],
   "source": [
    "#Create a set from a tuple.\n",
    "input_tuple = (1, 2, 3, 2, 4, 5, 1)\n",
    "\n",
    "myset=set(input_tuple)\n",
    "\n",
    "print(my_set)"
   ]
  },
  {
   "cell_type": "code",
   "execution_count": 49,
   "id": "1ef6ac66",
   "metadata": {},
   "outputs": [
    {
     "name": "stdout",
     "output_type": "stream",
     "text": [
      "(1, 2, 3, 4, 5)\n"
     ]
    }
   ],
   "source": [
    "#Convert a set to a tuple.\n",
    "input_set = {1, 2, 3, 4, 5}\n",
    "\n",
    "mytuple=tuple(input_set)\n",
    "\n",
    "print(mytuple)\n"
   ]
  },
  {
   "cell_type": "code",
   "execution_count": 53,
   "id": "6967ba56",
   "metadata": {},
   "outputs": [
    {
     "name": "stdout",
     "output_type": "stream",
     "text": [
      "the maximun value in set 5\n"
     ]
    }
   ],
   "source": [
    "#Find the maximum value in a set.\n",
    "input_set = {1, 2, 3, 4, 5}\n",
    "\n",
    "print(\"the maximun value in set\",max(input_set))"
   ]
  },
  {
   "cell_type": "code",
   "execution_count": 52,
   "id": "909b11bf",
   "metadata": {},
   "outputs": [
    {
     "name": "stdout",
     "output_type": "stream",
     "text": [
      "the minimun value in set 1\n"
     ]
    }
   ],
   "source": [
    "#Find the minimum value in a set.\n",
    "input_set = {1, 2, 3, 4, 5}\n",
    "\n",
    "print(\"the minimun value in set\",min(input_set))\n"
   ]
  },
  {
   "cell_type": "code",
   "execution_count": 55,
   "id": "889260ab",
   "metadata": {},
   "outputs": [
    {
     "name": "stdout",
     "output_type": "stream",
     "text": [
      "Enter elements for the set (type 'done' to finish):\n",
      "> 12355\n",
      "> sd\n",
      "> hh\n",
      "> h\n",
      "> j\n",
      "> j\n",
      "> 5\n",
      "> 5\n",
      "> 5\n",
      "> done\n",
      "Final set: {'12355', 'hh', 'h', 'sd', 'j', '5'}\n"
     ]
    }
   ],
   "source": [
    "# Create a set from user input.\n",
    "user_set = set()\n",
    "\n",
    "# Step 2: Get input from the user\n",
    "print(\"Enter elements for the set (type 'done' to finish):\")\n",
    "while True:\n",
    "    user_input = input(\"> \")  # Get input from the user\n",
    "\n",
    "    if user_input.lower() == 'done':\n",
    "        break  # Exit the loop if the user enters 'done'\n",
    "\n",
    "    # Step 3: Add the user input to the set\n",
    "    user_set.add(user_input)\n",
    "\n",
    "# Step 4: Display the final set created from user input\n",
    "print(\"Final set:\", user_set)"
   ]
  },
  {
   "cell_type": "code",
   "execution_count": 56,
   "id": "2a370e5a",
   "metadata": {},
   "outputs": [
    {
     "name": "stdout",
     "output_type": "stream",
     "text": [
      "The intersection of the two sets is not empty.\n"
     ]
    }
   ],
   "source": [
    "#Check if the intersection of two sets is empty.\n",
    "\n",
    "set1 = {1, 2, 3, 4, 5}\n",
    "set2 = {4, 5, 6, 7, 8}\n",
    "\n",
    "# Step 2: Find the intersection of the two sets using the `intersection()` method\n",
    "intersection_result = set1.intersection(set2)\n",
    "\n",
    "# Step 3: Check if the intersection result is empty\n",
    "if not intersection_result:\n",
    "    print(\"The intersection of the two sets is empty.\")\n",
    "else:\n",
    "    print(\"The intersection of the two sets is not empty.\")"
   ]
  },
  {
   "cell_type": "code",
   "execution_count": 57,
   "id": "67c1fa3d",
   "metadata": {},
   "outputs": [
    {
     "name": "stdout",
     "output_type": "stream",
     "text": [
      "Set of the first 5 Fibonacci numbers: {0, 1, 2, 3, 5}\n"
     ]
    }
   ],
   "source": [
    "#Create a set of the first 5 Fibonacci numbers.\n",
    "fibonacci_set = set()\n",
    "\n",
    "# Initialize the first two Fibonacci numbers\n",
    "a, b = 0, 1\n",
    "\n",
    "# Loop to generate the first 5 Fibonacci numbers\n",
    "for _ in range(6):\n",
    "    # Add the current Fibonacci number to the set\n",
    "    fibonacci_set.add(a)\n",
    "\n",
    "    # Calculate the next Fibonacci number\n",
    "    a, b = b, a + b\n",
    "\n",
    "# Print the set of Fibonacci numbers\n",
    "print(\"Set of the first 5 Fibonacci numbers:\", fibonacci_set)"
   ]
  },
  {
   "cell_type": "code",
   "execution_count": 58,
   "id": "f704e067",
   "metadata": {},
   "outputs": [
    {
     "name": "stdout",
     "output_type": "stream",
     "text": [
      "[2, 4, 6, 8, 10, 12, 14]\n"
     ]
    }
   ],
   "source": [
    "#Remove duplicates from a list using sets.\n",
    "original_list = [2, 4, 6, 8, 4, 10, 6, 12, 14, 8]\n",
    "\n",
    "unique= set(original_list)\n",
    "\n",
    "unique_list=list(unique)\n",
    "\n",
    "print(unique_list)"
   ]
  },
  {
   "cell_type": "code",
   "execution_count": 59,
   "id": "56e9711b",
   "metadata": {},
   "outputs": [
    {
     "name": "stdout",
     "output_type": "stream",
     "text": [
      "The sets have the same elements.\n"
     ]
    }
   ],
   "source": [
    "#Check if two sets have the same elements, regardless of their count.\n",
    "def have_same_elements(set1, set2):\n",
    "    # Convert the sets to lists and sort them\n",
    "    sorted_list1 = sorted(list(set1))\n",
    "    sorted_list2 = sorted(list(set2))\n",
    "\n",
    "    # Compare the sorted lists to check if they are equal\n",
    "    return sorted_list1 == sorted_list2\n",
    "\n",
    "# Example sets\n",
    "set1 = {1, 2, 3, 2, 1}\n",
    "set2 = {3, 1, 2}\n",
    "\n",
    "# Check if the sets have the same elements\n",
    "result = have_same_elements(set1, set2)\n",
    "\n",
    "# Print the result\n",
    "if result:\n",
    "    print(\"The sets have the same elements.\")\n",
    "else:\n",
    "    print(\"The sets do not have the same elements.\")"
   ]
  },
  {
   "cell_type": "code",
   "execution_count": 60,
   "id": "ba368787",
   "metadata": {},
   "outputs": [
    {
     "name": "stdout",
     "output_type": "stream",
     "text": [
      "{1, 2, 4, 8, 16}\n"
     ]
    }
   ],
   "source": [
    "#Create a set of the first n powers of 2\n",
    "def generate_powers_of_2(n):\n",
    "    # Initialize an empty set to store the powers of 2\n",
    "    powers_of_2 = set()\n",
    "\n",
    "    # Loop from 0 to n-1\n",
    "    for i in range(n):\n",
    "        # Calculate the current power of 2 using the exponentiation operator **\n",
    "        power = 2 ** i\n",
    "\n",
    "        # Add the current power of 2 to the set\n",
    "        powers_of_2.add(power)\n",
    "\n",
    "    # Return the set of powers of 2\n",
    "    return powers_of_2\n",
    "\n",
    "# Define the value of n\n",
    "n = 5\n",
    "\n",
    "# Call the function to generate the set of powers of 2\n",
    "powers_set = generate_powers_of_2(n)\n",
    "\n",
    "# Print the resulting set\n",
    "print(powers_set)"
   ]
  },
  {
   "cell_type": "code",
   "execution_count": 61,
   "id": "45182120",
   "metadata": {},
   "outputs": [
    {
     "name": "stdout",
     "output_type": "stream",
     "text": [
      "Common elements: [7, 9, 12]\n"
     ]
    }
   ],
   "source": [
    "#Find the common elements between a set and a list.\n",
    "my_set = {3, 7, 9, 12, 15}\n",
    "my_list = [7, 12, 5, 9]\n",
    "\n",
    "# Step 2: Convert the list to a set for efficient comparison\n",
    "list_to_set = set(my_list)\n",
    "\n",
    "# Step 3: Initialize an empty list to store common elements\n",
    "common_elements = []\n",
    "\n",
    "# Step 4: Iterate through the elements in the set\n",
    "for element in my_set:\n",
    "    # Step 5: Check if the element is present in the converted set (list_to_set)\n",
    "    if element in list_to_set:\n",
    "        # Step 6: If the element is present in both the set and the list, add it to the common_elements list\n",
    "        common_elements.append(element)\n",
    "\n",
    "# Step 7: Print the common elements\n",
    "print(\"Common elements:\", common_elements)"
   ]
  },
  {
   "cell_type": "code",
   "execution_count": 62,
   "id": "d1ab3da0",
   "metadata": {},
   "outputs": [
    {
     "name": "stdout",
     "output_type": "stream",
     "text": [
      "Enter the value of n: 5\n",
      "The set of the first 5 triangular numbers is: {1, 3, 6, 10, 15}\n"
     ]
    }
   ],
   "source": [
    "#Create a set of the first n triangular numbers.:\n",
    "def generate_triangular_numbers(n):\n",
    "    triangular_numbers = set()  # Create an empty set to store the triangular numbers\n",
    "    for i in range(1, n + 1):\n",
    "        triangular_number = i * (i + 1) // 2  # Calculate the ith triangular number using the formula\n",
    "        triangular_numbers.add(triangular_number)  # Add the calculated triangular number to the set\n",
    "    return triangular_numbers\n",
    "\n",
    "# Input the value of 'n'\n",
    "n = int(input(\"Enter the value of n: \"))\n",
    "\n",
    "# Call the function to generate the set of first 'n' triangular numbers\n",
    "triangular_set = generate_triangular_numbers(n)\n",
    "\n",
    "# Display the set of triangular numbers\n",
    "print(f\"The set of the first {n} triangular numbers is:\", triangular_set)"
   ]
  },
  {
   "cell_type": "code",
   "execution_count": 63,
   "id": "2c870d1b",
   "metadata": {},
   "outputs": [
    {
     "name": "stdout",
     "output_type": "stream",
     "text": [
      "set2 is a subset of set1\n"
     ]
    }
   ],
   "source": [
    "#Check if a set contains another set as a subset.\n",
    "set1 = {1, 2, 3, 4, 5}\n",
    "set2 = {3, 4}\n",
    "\n",
    "# Check if set2 is a subset of set1\n",
    "is_subset = set2.issubset(set1)\n",
    "\n",
    "# Print the result\n",
    "if is_subset:\n",
    "    print(\"set2 is a subset of set1\")\n",
    "else:\n",
    "    print(\"set2 is not a subset of set1\")"
   ]
  },
  {
   "cell_type": "code",
   "execution_count": 64,
   "id": "549835f7",
   "metadata": {},
   "outputs": [
    {
     "name": "stdout",
     "output_type": "stream",
     "text": [
      "{0, 1}\n"
     ]
    }
   ],
   "source": [
    "#Create a set of alternating 1s and 0s of length n.\n",
    "def create_alternating_set(n):\n",
    "    # Initialize an empty set to store the alternating sequence.\n",
    "    alternating_set = set()\n",
    "\n",
    "    # Loop to generate alternating 1s and 0s.\n",
    "    for i in range(n):\n",
    "        # Alternate between adding 1 and 0 to the set based on whether i is even or odd.\n",
    "        if i % 2 == 0:\n",
    "            alternating_set.add(1)  # Add 1 if i is even.\n",
    "        else:\n",
    "            alternating_set.add(0)  # Add 0 if i is odd.\n",
    "\n",
    "    return alternating_set\n",
    "\n",
    "# Define the desired length of the alternating set.\n",
    "length_n = 10\n",
    "\n",
    "# Call the function to create the alternating set of length 'length_n'.\n",
    "result = create_alternating_set(length_n)\n",
    "\n",
    "# Print the resulting set.\n",
    "print(result)"
   ]
  },
  {
   "cell_type": "code",
   "execution_count": 65,
   "id": "b7ea08f5",
   "metadata": {},
   "outputs": [
    {
     "name": "stdout",
     "output_type": "stream",
     "text": [
      "Merged Set: {1, 2, 3, 4, 5, 6, 7}\n"
     ]
    }
   ],
   "source": [
    "#Merge multiple sets into one.\n",
    "set1 = {1, 2, 3}\n",
    "set2 = {3, 4, 5}\n",
    "set3 = {5, 6, 7}\n",
    "\n",
    "# Step 2: Use the union() method to merge sets\n",
    "merged_set = set1.union(set2, set3)\n",
    "\n",
    "# Alternatively, you can use the | operator\n",
    "# merged_set = set1 | set2 | set3\n",
    "\n",
    "# Step 3: Print the merged set\n",
    "print(\"Merged Set:\", merged_set)"
   ]
  },
  {
   "cell_type": "code",
   "execution_count": null,
   "id": "b30d90ed",
   "metadata": {},
   "outputs": [],
   "source": []
  }
 ],
 "metadata": {
  "kernelspec": {
   "display_name": "Python 3 (ipykernel)",
   "language": "python",
   "name": "python3"
  },
  "language_info": {
   "codemirror_mode": {
    "name": "ipython",
    "version": 3
   },
   "file_extension": ".py",
   "mimetype": "text/x-python",
   "name": "python",
   "nbconvert_exporter": "python",
   "pygments_lexer": "ipython3",
   "version": "3.10.9"
  }
 },
 "nbformat": 4,
 "nbformat_minor": 5
}
